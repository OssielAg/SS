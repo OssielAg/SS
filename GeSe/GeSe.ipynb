{
 "cells": [
  {
   "cell_type": "code",
   "execution_count": 1,
   "id": "118d61c3",
   "metadata": {},
   "outputs": [],
   "source": [
    "from Clases.Codigo import *"
   ]
  },
  {
   "cell_type": "code",
   "execution_count": 2,
   "id": "df96cd18",
   "metadata": {},
   "outputs": [],
   "source": [
    "def GeSeA():\n",
    "    ats=[Atomo((0.75,0.577516675),posZ=0.189562783,color='blue',sig='Ge'),\n",
    "         Atomo((0.25,0.077767663),posZ=0.073721662,color='blue',sig='Ge'),\n",
    "         Atomo((0.25,0.050640754),posZ=0.195155814,color='green',sig='Se'),\n",
    "         Atomo((0.75,0.550593972),posZ=0.068081208,color='green',sig='Se')]\n",
    "    a = (4.0130319595,0.0000000000)\n",
    "    b = (0.0000000000,4.0482119840)\n",
    "    gese = Malla(a,b,atms=ats,name='GeSe-Alfa')\n",
    "    gese.detachment = 21.1464214325\n",
    "    return gese\n",
    "\n",
    "def GeSeB():\n",
    "    ats=[Atomo((0.75,0.367782116),posZ=0.160547823,color='darkred',sig='Ge'),\n",
    "         Atomo((0.25,0.868400931),posZ=0.063394181,color='darkred',sig='Ge'),\n",
    "         Atomo((0.75,0.846623361),posZ=0.160837263,color='black',sig='Se'),\n",
    "         Atomo((0.25,0.346943438),posZ=0.063084550,color='black',sig='Se')]\n",
    "    a = (3.8261001110,0.0000000000)\n",
    "    b = (0.0000000000,5.8088998795)\n",
    "    gese = Malla(a,b,atms=ats,name='GeSe-Alfa')\n",
    "    gese.detachment = 18.0892009735\n",
    "    return gese\n"
   ]
  },
  {
   "cell_type": "code",
   "execution_count": 3,
   "id": "4f095d0a",
   "metadata": {},
   "outputs": [],
   "source": [
    "gcA=GeSeA()\n",
    "gcB=GeSeB()\n",
    "gcr=gcB.mRot(90)"
   ]
  },
  {
   "cell_type": "code",
   "execution_count": 4,
   "id": "e0f1f73e",
   "metadata": {},
   "outputs": [],
   "source": [
    "Aa, Ab = gcA.u, gcA.v\n",
    "Ba, Bb = gcB.u, gcB.v\n",
    "ra, rb = gcr.u, gcr.v"
   ]
  },
  {
   "cell_type": "code",
   "execution_count": 5,
   "id": "4e6c6aa0",
   "metadata": {},
   "outputs": [],
   "source": [
    "def busca(Vs1,Vs2, th, rango=20, limDelta=0.5, show=False):\n",
    "    (vectU,vectV) = Vs1\n",
    "    (a2,b2) = Vs2\n",
    "    lim = limDelta\n",
    "    f1, f2 = 0, 0\n",
    "    res = [[],[]]\n",
    "    rmin = [0,0,0,0,0.0]\n",
    "    rmin2 = [0,0,0,0,0.0]\n",
    "    ang = math.radians(th)\n",
    "    cos = math.cos(ang)\n",
    "    sen = math.sin(ang)\n",
    "    ru, rv = rota(a2,th), rota(b2,th)\n",
    "    (u1,u2) = vectU\n",
    "    (v1,v2) = vectV\n",
    "    ax1 = (u2*v1)-(u1*v2)\n",
    "    ax2 = (u1*v1)+(u2*v2)\n",
    "    ax3 = (v1**2)+(v2**2)\n",
    "    ax4 = (u1**2)+(u2**2)\n",
    "    delta=0.0\n",
    "    mind1=100\n",
    "    mind2=100\n",
    "    for k in range(1,(2*rango)+1):\n",
    "        for i in range(k+1):\n",
    "            j = k-i\n",
    "            if(i<(rango+1) and j<(rango+1)):\n",
    "                # Buscando en b+\n",
    "                a,b = i,-j\n",
    "                c = (a*(ax1*cos-ax2*sen)/ax1)-(b*(ax3*sen)/ax1)\n",
    "                d = (b*(ax1*cos+ax2*sen)/ax1)+(a*(ax4*sen)/ax1)\n",
    "                r1 = sumaV(multV(a,vectU),multV(b,vectV))\n",
    "                r2 = sumaV(multV(round(c),ru),multV(round(d),rv))\n",
    "                delta = dist((0,0),r1)/dist((0,0),r2)\n",
    "                err = dist(r1,r2)*(abs(delta))\n",
    "                if show:\n",
    "                    print(\"-({},{}),({},{}):Err={}\".format(a,b,round(c),round(d),err))\n",
    "                if err<mind1:\n",
    "                    mind1=err\n",
    "                if (err<limDelta):\n",
    "                    #print(1-delta)\n",
    "                    if(abs(1-delta)<0.1):\n",
    "                        res[0].append([[a,b],[round(c),round(d)],delta])\n",
    "                        print(\">{}°:({},{})-({},{}): Delta={}%\".format(th,a,b,round(c),round(d),delta*100),\":\",dist(r1,r2))\n",
    "                # Buscando en b-\n",
    "                if j!=0:\n",
    "                    a,b = i,j\n",
    "                    c = (a*(ax1*cos-ax2*sen)/ax1)-(b*(ax3*sen)/ax1)\n",
    "                    d = (b*(ax1*cos+ax2*sen)/ax1)+(a*(ax4*sen)/ax1)\n",
    "                    r1 = sumaV(multV(a,vectU),multV(b,vectV))\n",
    "                    r2 = sumaV(multV(round(c),ru),multV(round(d),rv))\n",
    "                    delta = dist((0,0),r1)/dist((0,0),r2)\n",
    "                    err = dist(r1,r2)*(abs(delta))\n",
    "                    if show:\n",
    "                        print(\"-({},{}),({},{}):Err={}\".format(a,b,round(c),round(d),err))\n",
    "                    if err<mind2:\n",
    "                        mind2=err\n",
    "                    if (err<limDelta):\n",
    "                        if(abs(1-delta)<0.1):\n",
    "                            res[1].append([[a,b],[round(c),round(d)],delta])\n",
    "                            print(\">>{}°:({},{})-({},{}): Delta={}%\".format(th,a,b,round(c),round(d),delta*100),\":\",dist(r1,r2))\n",
    "    if (mind1+mind2)/2<0.5:\n",
    "        #print(\"******\")\n",
    "        print(\"----------\\n{}°:{}\\n\\tdelta1={}\\n\\tdelta2={}\\n----------\".format(th,(mind1+mind2)/2,mind1,mind2))\n",
    "    return res, ((mind1+mind2)/2)\n",
    "\n",
    "def dameP(r,theta):\n",
    "    tmin=200\n",
    "    angR=0.0\n",
    "    resultado=\"\"\n",
    "    P=(1,0,0,1)\n",
    "    for i in range(len(r[0])):\n",
    "        for j in range(len(r[1])):\n",
    "            [m,p] = r[0][i][0]\n",
    "            [n,q] = r[1][j][0]\n",
    "            tam = (m*q)-(n*p)\n",
    "            if tam>0:\n",
    "                print((m,p),(n,q),\"det=\",tam)\n",
    "                if tam<tmin:\n",
    "                    resultado=\"\\nMejor P para Theta={}:\\n|{}\\t{}|\\n|{}\\t{}|\\nDet={}\".format(theta,m,n,p,q,tam)\n",
    "                    P = (m,n,p,q)\n",
    "                    tmin=tam\n",
    "    print(resultado)\n",
    "    return P"
   ]
  },
  {
   "cell_type": "code",
   "execution_count": 6,
   "id": "f4c7bbf4",
   "metadata": {},
   "outputs": [],
   "source": [
    "def rastrea(Vs1,Vs2, ran=15, delta=0.1):\n",
    "    res = []\n",
    "    datos = []\n",
    "    for i in range(36000):\n",
    "        th = i/100\n",
    "        resi, erP = busca(Vs1,Vs2, th, rango=ran, limDelta=delta)\n",
    "        if erP<=1:\n",
    "            datos.append([th,erP])\n",
    "        if resi[0] != []:\n",
    "            if resi[1] != []:\n",
    "                res.append([th,resi]) \n",
    "    return res, np.array(datos)"
   ]
  },
  {
   "cell_type": "code",
   "execution_count": null,
   "id": "5d0b71e8",
   "metadata": {
    "scrolled": true
   },
   "outputs": [],
   "source": [
    "r, graf = rastrea((Aa,Ab),(Ba,Bb),delta=0.1)"
   ]
  },
  {
   "cell_type": "code",
   "execution_count": null,
   "id": "e928cb9c",
   "metadata": {},
   "outputs": [],
   "source": [
    "xs, ys = graf[:,0], graf[:,1]"
   ]
  },
  {
   "cell_type": "code",
   "execution_count": null,
   "id": "a2baca29",
   "metadata": {},
   "outputs": [],
   "source": [
    "xsr = (xs*math.pi)/180\n",
    "plt.plot(xs, ys)\n",
    "plt.show()"
   ]
  },
  {
   "cell_type": "code",
   "execution_count": null,
   "id": "7d9f429b",
   "metadata": {},
   "outputs": [],
   "source": [
    "analisis=np.r_[True, ys[1:] < ys[:-1]] & np.r_[ys[:-1:] < ys[1:], True]\n",
    "for i in range(len(analisis)):\n",
    "    if analisis[i]==True:\n",
    "        print(xs[i],\":\",ys[i])"
   ]
  },
  {
   "cell_type": "code",
   "execution_count": null,
   "id": "26949a54",
   "metadata": {},
   "outputs": [],
   "source": [
    "res,minD=busca((Aa,Ab),(Ba,Bb), -90, rango=50, limDelta=0.4)"
   ]
  },
  {
   "cell_type": "code",
   "execution_count": null,
   "id": "94f3518e",
   "metadata": {},
   "outputs": [],
   "source": [
    "P=dameP(res,90)\n",
    "P"
   ]
  },
  {
   "cell_type": "code",
   "execution_count": null,
   "id": "8d52f4c5",
   "metadata": {},
   "outputs": [],
   "source": [
    "su,sv=transfVs(Aa,Ab,(1,2,-1,2))\n",
    "cAng(su,sv)"
   ]
  },
  {
   "cell_type": "code",
   "execution_count": null,
   "id": "a784eebd",
   "metadata": {},
   "outputs": [],
   "source": [
    "sm0 = superMesh(multV(20,Aa),multV(20,Ab),[gcA])\n",
    "sm0.showNM(1,1,name='GeCeAlfa(90)original.png')"
   ]
  },
  {
   "cell_type": "code",
   "execution_count": null,
   "id": "8fccb83b",
   "metadata": {},
   "outputs": [],
   "source": [
    "sm1 = superMesh(su,sv,[gcA,gcr])\n",
    "sm1.showNM(5,5,name='GeCeAlfa-Beta(44.86).png')\n",
    "sm1.exporta(name='GeCe-Alfa-Beta(44.86)')"
   ]
  },
  {
   "cell_type": "code",
   "execution_count": null,
   "id": "a400f5ee",
   "metadata": {},
   "outputs": [],
   "source": [
    "gcr=gcB.mRot(90)\n",
    "gcr.showNM(1,1)\n",
    "gcA.showNM(1,1)\n"
   ]
  },
  {
   "cell_type": "code",
   "execution_count": null,
   "id": "f090bbf8",
   "metadata": {},
   "outputs": [],
   "source": [
    "cAng(su,sv)"
   ]
  },
  {
   "cell_type": "code",
   "execution_count": null,
   "id": "fbf6dff1",
   "metadata": {},
   "outputs": [],
   "source": [
    "sm1.exporta(name='GeCe alfa-beta(44.86°)')"
   ]
  },
  {
   "cell_type": "code",
   "execution_count": null,
   "id": "62e8f6ca",
   "metadata": {},
   "outputs": [],
   "source": [
    "angR = 54\n",
    "vec1 = (2.44,0)\n",
    "vec2 = rota(vec1,angR*2)"
   ]
  },
  {
   "cell_type": "code",
   "execution_count": null,
   "id": "9a0342c6",
   "metadata": {},
   "outputs": [],
   "source": [
    "ats=[Atomo((1/3,2/3),posZ=0.1,color='blue',sig='C1'),\n",
    "     Atomo((0,0),posZ=0.1,color='blue',sig='C2')]\n",
    "cosa = Malla(vec1,vec2,atms=ats,name='Capa1({}º) rot:0º'.format(angR*2))\n",
    "ats=[Atomo((1/3,2/3),posZ=0.1,color='black',sig='C1'),\n",
    "     Atomo((2/3,1/3),posZ=0.1,color='black',sig='C2')]\n",
    "cosa2 = Malla(rota(vec1,angR),rota(vec2,angR),atms=ats,name='Capa1({}º) rot:{}º'.format(angR*2,angR))\n",
    "showme(cosa2,5,5)"
   ]
  },
  {
   "cell_type": "code",
   "execution_count": null,
   "id": "0a941d0d",
   "metadata": {},
   "outputs": [],
   "source": [
    "superMesh((60,0),(0,60),[cosa,cosa2]).showNM(1,1)"
   ]
  },
  {
   "cell_type": "code",
   "execution_count": null,
   "id": "71c0dc9a",
   "metadata": {},
   "outputs": [],
   "source": [
    "multV(10,vec1),multV(10,vec2)\n",
    "(u1,u2), (v1,v2) = cosa2.u, cosa2.v\n",
    "(p1,p2), (q1,q2) = multV(10,vec1),multV(10,vec2)\n",
    "np1 = ((p2*v1)-(p1*v2))/((u2*v1)-(u1*v2))\n",
    "np1"
   ]
  },
  {
   "cell_type": "code",
   "execution_count": null,
   "id": "1fc679a1",
   "metadata": {},
   "outputs": [],
   "source": [
    "sCosa = superMesh(multV(10,vec1),multV(10,vec2),[cosa,cosa2])\n",
    "sCosa.showNM(1,1)"
   ]
  },
  {
   "cell_type": "code",
   "execution_count": null,
   "id": "a365de20",
   "metadata": {},
   "outputs": [],
   "source": [
    "#res,minD=busca((vec1,vec2),(vec1,vec2), 54, rango=7, limDelta=5)\n",
    "res,minD=calculaPares((vec1,vec2),(vec1,vec2), 54, maxIt=10, eps=2)"
   ]
  },
  {
   "cell_type": "code",
   "execution_count": null,
   "id": "50564018",
   "metadata": {},
   "outputs": [],
   "source": [
    "P=dameP(res,54)"
   ]
  },
  {
   "cell_type": "code",
   "execution_count": null,
   "id": "7c992ff6",
   "metadata": {},
   "outputs": [],
   "source": [
    "su,sv=transfVs(vec1,vec2,(4,4,-4,6))\n",
    "cAng(su,sv)"
   ]
  },
  {
   "cell_type": "code",
   "execution_count": null,
   "id": "e523f5f0",
   "metadata": {},
   "outputs": [],
   "source": [
    "sv1 = m2V(vec1,vec2,(4,-4))\n",
    "sv2 = m2V(vec1,vec2,(4,6))#rota(sv1,108) #m2V(vec1,vec2,(-4,6))\n",
    "print(sv1,sv2)\n",
    "(dist(sv1,(0,0)),dist(sv2,(0,0)))"
   ]
  },
  {
   "cell_type": "code",
   "execution_count": null,
   "id": "14f09d6a",
   "metadata": {},
   "outputs": [],
   "source": [
    "u,v=vec1,vec2\n",
    "ru,rv = rota(vec1,54), rota(vec2,54)\n",
    "print(\"Vectores en Capa 1:\\n\\t\",m2V(u,v,(4,-4)))\n",
    "print(\"Vectores en Capa 2:\\n\\t\",m2V(ru,rv,(-2,-7)))\n",
    "print(\"Diferencia en resultados:\\n\\t\",dist(m2V(u,v,(4,-4)),m2V(ru,rv,(-2,-7))))\n",
    "#dist(m2V(u,v,(1,-1)),m2V(ru,rv,(1,1)))"
   ]
  },
  {
   "cell_type": "code",
   "execution_count": null,
   "id": "d70af54b",
   "metadata": {},
   "outputs": [],
   "source": [
    "#Calculamos el alfa\n",
    "(x,y) = sv1\n",
    "alfaX, alfaY = sv2\n",
    "print(\"x = {:.4f}\\ny = {:.4f}\".format(x,y))\n",
    "print(\"x' = {:.4f}\\ny' = {:.4f}\".format(alfaX, alfaY))\n",
    "cAng((x,y), (alfaX, alfaY))"
   ]
  },
  {
   "cell_type": "code",
   "execution_count": null,
   "id": "ebbd3788",
   "metadata": {},
   "outputs": [],
   "source": [
    "#Redimencionamos los vectores generadores de ambas capas con los que obtuvimos. \n",
    "cosa.u, cosa.v = transfVs((x,y), (alfaX, alfaY),(3/20,-1/10,1/10,1/10))\n",
    "cosa2.u, cosa2.v = transfVs((x,y), (alfaX, alfaY),(1/19,-3/19,7/38,-1/19))\n",
    "#Actualizando valores\n",
    "ru,rv=cosa2.u,cosa2.v\n",
    "u,v=cosa.u,cosa.v\n",
    "(a1,a2),(b1,b2) = cosa.u,cosa.v\n",
    "print(\"a  = ({:.4f} , {:.4f})\\nb  = ({:.4f},{:.4f})\".format(a1,a2,b1,b2))\n",
    "(a1,a2),(b1,b2) = cosa2.u,cosa2.v\n",
    "print(\"a' = ({:.4f} , {:.4f})\\nb' = ({:.4f},{:.4f})\".format(a1,a2,b1,b2))"
   ]
  },
  {
   "cell_type": "code",
   "execution_count": null,
   "id": "57e9a7d7",
   "metadata": {},
   "outputs": [],
   "source": [
    "(vec1,vec2)"
   ]
  },
  {
   "cell_type": "code",
   "execution_count": null,
   "id": "3e6e36f2",
   "metadata": {},
   "outputs": [],
   "source": [
    "su,sv=transfVs(u,v,(4,4,-4,6))\n",
    "sCosa = superMesh(su,sv,[cosa,cosa2])\n",
    "sCosa.showNM(5,5)\n",
    "print(superMesh(cosa.u,cosa.v,[cosa]))\n",
    "print(superMesh(cosa2.u,cosa2.v,[cosa2]))\n",
    "#cosa2.showNM(5,5)\n",
    "#sCosa.exporta(name='Bicapa H3,H6(108º deformado)')\n",
    "#superMesh(cosa.u,cosa.v,[cosa]).exporta(name='Capa1 H3({}º deformada)'.format(angR*2))\n",
    "#superMesh(cosa2.u,cosa2.v,[cosa2]).exporta(name='Capa2 H6({}º  deformada)'.format(angR*2))"
   ]
  },
  {
   "cell_type": "code",
   "execution_count": null,
   "id": "a607bfc0",
   "metadata": {},
   "outputs": [],
   "source": [
    "dist(cosa2.u,(0,0))/2.44"
   ]
  },
  {
   "cell_type": "code",
   "execution_count": null,
   "id": "9aeeb1b7",
   "metadata": {},
   "outputs": [],
   "source": [
    "dist(m2V(vec1,vec2,(4,-4)),(0,0))"
   ]
  },
  {
   "cell_type": "code",
   "execution_count": null,
   "id": "f8b6016a",
   "metadata": {},
   "outputs": [],
   "source": [
    "sep = 30\n",
    "vec1 = (2.44,0.0)\n",
    "vec2 = rota(vec1,sep*4)\n",
    "'''\n",
    "ats=[Atomo((1/3,2/3),posZ=0.1,color='blue',sig='C1'),\n",
    "     Atomo((2/3,1/3),posZ=0.1,color='blue',sig='C2'),\n",
    "     Atomo((1/3,1/3),posZ=0.1,color='darkred',sig='C1'),\n",
    "     Atomo((2/3,2/3),posZ=0.1,color='darkred',sig='C2')]\n",
    "cosa = Malla(vec1,vec2,atms=ats,name='Cosa')\n",
    "ats=[Atomo((1/3,2/3),posZ=0.1,color='black',sig='C1'),\n",
    "     Atomo((2/3,1/3),posZ=0.1,color='black',sig='C2'),\n",
    "     Atomo((1/3,1/3),posZ=0.1,color='grey',sig='C1'),\n",
    "     Atomo((2/3,2/3),posZ=0.1,color='grey',sig='C2')]\n",
    "cosa2 = Malla(vec1,vec2,atms=ats,name='Cosa2')\n",
    "\n",
    "'''\n",
    "ats=[Atomo((1/3,2/3),posZ=0.1,color='blue',sig='C1'),\n",
    "     Atomo((2/3,1/3),posZ=0.1,color='pink',sig='C2')]\n",
    "cosa = Malla(vec1,vec2,atms=ats,name='Cosa')\n",
    "ats=[Atomo((1/3,2/3),posZ=0.1,color='black',sig='C3'),\n",
    "     Atomo((2/3,1/3),posZ=0.1,color='red',sig='C4')]\n",
    "cosa2 = Malla(vec1,vec2,atms=ats,name='Cosa2')\n",
    "cosa2=cosa2.mRot(-sep)\n",
    "\n",
    "sCosa = superMesh((100,0),(0,100),[cosa,cosa2])\n",
    "sCosa.showNM(1,1)\n",
    "sCosa.exporta(name='ParaFondo')"
   ]
  },
  {
   "cell_type": "code",
   "execution_count": null,
   "id": "7365a12c",
   "metadata": {},
   "outputs": [],
   "source": [
    "res,minD=busca((vec1,vec2),(vec1,vec2), -30, rango=16, limDelta=0.1)\n",
    "print(res[0][1][0],\"-> Estres:{}%\".format((res[0][1][2]-1)*100))"
   ]
  },
  {
   "cell_type": "code",
   "execution_count": null,
   "id": "0d1bab7c",
   "metadata": {},
   "outputs": [],
   "source": [
    "cosa2 = Malla(multV(res[0][1][2],vec1),multV(res[0][1][2],vec2),atms=ats,name='Cosa2')\n",
    "cosa2=cosa2.mRot(-sep)\n",
    "print(cosa2.u,cosa2.v)"
   ]
  },
  {
   "cell_type": "code",
   "execution_count": null,
   "id": "805681aa",
   "metadata": {},
   "outputs": [],
   "source": [
    "su,sv=transfVs(vec1,vec2,(11,4,-4,15))\n",
    "sCosa = superMesh(su,sv,[cosa,cosa2])\n",
    "sCosa.showNM(1,1)\n",
    "sCosa.exporta(name='30°Grande')"
   ]
  },
  {
   "cell_type": "code",
   "execution_count": null,
   "id": "ab0caaad",
   "metadata": {},
   "outputs": [],
   "source": [
    "su,sv=vec1,vec2\n",
    "sCosa = superMesh(su,sv,[cosa])\n",
    "sCosa.showNM(1,1)\n",
    "sCosa.exporta(name='Capa1')\n",
    "\n",
    "su,sv=cosa2.u, cosa2.v\n",
    "sCosa = superMesh(su,sv,[cosa2])\n",
    "sCosa.showNM(1,1)\n",
    "sCosa.exporta(name='Capa2')"
   ]
  },
  {
   "cell_type": "code",
   "execution_count": null,
   "id": "645dcc01",
   "metadata": {},
   "outputs": [],
   "source": [
    "(ar, br) = rota(Ba,90), rota(Bb,90)\n",
    "ar, br"
   ]
  },
  {
   "cell_type": "code",
   "execution_count": null,
   "id": "0c0bd095",
   "metadata": {},
   "outputs": [],
   "source": [
    "dist(m2V(ar,br,(0,-9)),m2V(Aa,Ab,(13,0)))"
   ]
  },
  {
   "cell_type": "code",
   "execution_count": null,
   "id": "753092fe",
   "metadata": {},
   "outputs": [],
   "source": [
    "busca((Aa,Ab),(Ba,Bb),90,show=True)"
   ]
  },
  {
   "cell_type": "code",
   "execution_count": null,
   "id": "2e45904e",
   "metadata": {},
   "outputs": [],
   "source": [
    "(u_1,u_2),(v_1,v_2),(p_1,p_2),(q_1,q_2)=Aa,Ab,ar,br\n",
    "a = 0\n",
    "b = 2\n",
    "c = (-a*q_2*u_1+a*q_1*u_2-b*q_2*v_1+b*q_1*v_2)/(p_2*q_1-p_1*q_2)\n",
    "d = (a*p_2*u_1-a*p_1*u_2+b*p_2*v_1-b*p_1*v_2)/(p_2*q_1-p_1*q_2)"
   ]
  },
  {
   "cell_type": "code",
   "execution_count": null,
   "id": "03e6bffc",
   "metadata": {},
   "outputs": [],
   "source": [
    "c,d"
   ]
  },
  {
   "cell_type": "code",
   "execution_count": null,
   "id": "e45d3448",
   "metadata": {},
   "outputs": [],
   "source": [
    "dist(m2V(ar,br,(round(c),round(d))),m2V(Aa,Ab,(a,b)))"
   ]
  },
  {
   "cell_type": "code",
   "execution_count": 7,
   "id": "a94e109c",
   "metadata": {},
   "outputs": [],
   "source": [
    "def calculaPares(vrs1, vrs2, th, maxIt=15, eps=0.1, show=False):\n",
    "    (u,v),(p,q) = vrs1, vrs2\n",
    "    ((u_1,u_2),(v_1,v_2)) = u, v\n",
    "    (p_1,p_2),(q_1,q_2) = rp, rq = rota(p,th), rota(q,th)\n",
    "    res = [[],[]]\n",
    "    rango = maxIt\n",
    "    delta=0.0\n",
    "    minE1=100\n",
    "    minE2=100\n",
    "    \n",
    "    for k in range(1,(2*rango)+1):\n",
    "        for i in range(k+1):\n",
    "            j = k-i\n",
    "            if(i<(rango+1) and j<(rango+1)):\n",
    "                # Buscando en b+\n",
    "                a,b = i,-j\n",
    "                c = (-a*q_2*u_1+a*q_1*u_2-b*q_2*v_1+b*q_1*v_2)/(p_2*q_1-p_1*q_2)\n",
    "                d = (a*p_2*u_1-a*p_1*u_2+b*p_2*v_1-b*p_1*v_2)/(p_2*q_1-p_1*q_2)\n",
    "                # Vector esperado\n",
    "                r1 = sumaV(multV(a,u),multV(b,v))\n",
    "                #Vector aproximado\n",
    "                r2 = sumaV(multV(round(c),rp),multV(round(d),rq))\n",
    "                delta = dist((0,0),r1)/dist((0,0),r2)\n",
    "                err = dist(r1,r2)#*(abs(delta))\n",
    "                if show:\n",
    "                    print(\"-({},{}),({},{}):Err={}\".format(a,b,round(c),round(d),err))\n",
    "                if err<minE1:\n",
    "                    minE1=err\n",
    "                if (err<eps):\n",
    "                    #print(1-delta)\n",
    "                    if(abs(1-delta)<0.07):\n",
    "                        res[0].append([[a,b],[round(c),round(d)],delta,err])\n",
    "                        print(\">{}°:({},{})-({},{}): Delta={}%\".format(th,a,b,round(c),round(d),delta*100),\":\",dist(r1,r2))\n",
    "                # Buscando en b-\n",
    "                if j!=0:\n",
    "                    a,b = i,j\n",
    "                    c = (-a*q_2*u_1+a*q_1*u_2-b*q_2*v_1+b*q_1*v_2)/(p_2*q_1-p_1*q_2)\n",
    "                    d = (a*p_2*u_1-a*p_1*u_2+b*p_2*v_1-b*p_1*v_2)/(p_2*q_1-p_1*q_2)\n",
    "                    # Vector esperado\n",
    "                    r1 = sumaV(multV(a,u),multV(b,v))\n",
    "                    #Vector aproximado\n",
    "                    r2 = sumaV(multV(round(c),rp),multV(round(d),rq))\n",
    "                    delta = dist((0,0),r1)/dist((0,0),r2)\n",
    "                    err = dist(r1,r2)#*(abs(delta))\n",
    "                    if show:\n",
    "                        print(\"-({},{}),({},{}):Err={}\".format(a,b,round(c),round(d),err))\n",
    "                    if err<minE2:\n",
    "                        minE2=err\n",
    "                    if (err<eps):\n",
    "                        if(abs(1-delta)<0.07):\n",
    "                            res[1].append([[a,b],[round(c),round(d)],delta,err])\n",
    "                            print(\">>{}°:({},{})-({},{}): Delta={}%\".format(th,a,b,round(c),round(d),delta*100),\":\",dist(r1,r2))\n",
    "    if (minE1+minE2)/2<0.5:\n",
    "        #print(\"******\")\n",
    "        print(\"----------\\n{}°:{}\\n\\tdelta1={}\\n\\tdelta2={}\\n----------\".format(th,(minE1+minE2)/2,minE1,minE2))\n",
    "    return res, ((minE1+minE2)/2)\n",
    "                "
   ]
  },
  {
   "cell_type": "code",
   "execution_count": null,
   "id": "cccba4ae",
   "metadata": {},
   "outputs": [],
   "source": [
    "calculaPares((Aa,Ab),(Ba,Bb),90,eps=0.5,show=True)"
   ]
  },
  {
   "cell_type": "code",
   "execution_count": null,
   "id": "4bede394",
   "metadata": {},
   "outputs": [],
   "source": [
    "rango=20\n",
    "for k in range(1,(2*rango)+1):\n",
    "    for i in range(k+1):\n",
    "        j = k-i\n",
    "        if(i<(rango+1) and j<(rango+1)):\n",
    "            a,b = i,-j\n",
    "            print(\">\",a,b)\n",
    "            a,b = i,j\n",
    "            print(\">>\",a,b)"
   ]
  },
  {
   "cell_type": "code",
   "execution_count": null,
   "id": "a6f67d68",
   "metadata": {},
   "outputs": [],
   "source": [
    "ats=[Atomo((1/3,2/3),posZ=0.1,color='sienna',sig='C'),\n",
    "     Atomo((2/3,1/3),posZ=0.1,color='sienna',sig='C')]\n",
    "enl = [[(1/3,2/3),(2/3,1/3)],\n",
    "       [(1/3,2/3),(2/3,4/3)],\n",
    "       [(1/3,2/3),(-1/3,1/3)]]\n",
    "Gfn = Malla((2.44,0), rota((2.44,0),120), atms=ats, enls=enl, name='Graphene')\n",
    "ats=[Atomo((2/3,1/3),posZ=0.268122792,color='darkcyan',sig='W'),\n",
    "     Atomo((1/3,2/3),posZ=0.100000000,color='darkolivegreen',sig='Se'),\n",
    "     Atomo((1/3,2/3),posZ=0.436245590,color='darkolivegreen',sig='Se')]\n",
    "WSe2 = Malla((3.3270692825,0),rota((3.3270692825,0),120),atms=ats, enls=enl,name='WS_2')\n",
    "#WSe2.showNM(5,5)"
   ]
  },
  {
   "cell_type": "code",
   "execution_count": null,
   "id": "3446d7c8",
   "metadata": {},
   "outputs": [],
   "source": [
    "showme(WSe2.mRot(80),10,10,t=25)"
   ]
  },
  {
   "cell_type": "code",
   "execution_count": null,
   "id": "bf8cff0e",
   "metadata": {},
   "outputs": [],
   "source": [
    "th = 10\n",
    "G_WS2 = hexa6(1)\n",
    "G_WS2 = superMesh2((30,0),(0,30),[WSe2,Gfn.mRot(th)])\n",
    "showme(G_WS2,1,1,t=30)\n",
    "nombre = \"G({}º) sobre WSe_2\".format(th)\n",
    "#G_WS2.exporta(name=nombre)"
   ]
  },
  {
   "cell_type": "code",
   "execution_count": null,
   "id": "cc302849",
   "metadata": {},
   "outputs": [],
   "source": [
    "(x,y)=rota((3.3270692825,0.0000000000),120)\n",
    "print(\"{:.10f}\\t{:.10f}\".format(x,y))"
   ]
  },
  {
   "cell_type": "code",
   "execution_count": null,
   "id": "59ee7579",
   "metadata": {},
   "outputs": [],
   "source": [
    "def showme(mesh, n, m, n0=0 ,m0=0, t=20,name=''):\n",
    "    vecU,vecV = mesh.u, mesh.v\n",
    "    red=[]\n",
    "    lx1,ly1 = getLim(vecU,vecV,n,m)\n",
    "    lx2,ly2 = getLim(vecU,vecV,n,m0)\n",
    "    lx3,ly3 = getLim(vecU,vecV,n0,m)\n",
    "    lx4,ly4 = getLim(vecU,vecV,n0,m0)\n",
    "    lmsx = [min(lx1[0],lx2[0],lx3[0],lx4[0]),max(lx1[1],lx2[1],lx3[1],lx4[1])]\n",
    "    lmsy = [min(ly1[0],ly2[0],ly3[0],ly4[0]),max(ly1[1],ly2[1],ly3[1],ly4[1])]\n",
    "    difMax = max((lmsx[1]-lmsx[0]),(lmsy[1]-lmsy[0]))\n",
    "    #mi,ma = (min(lx4[0],ly4[0],mi)-1), (max(lx4[1],ly4[1],ma)+1)\n",
    "    ats=[]\n",
    "    col=[]\n",
    "    enls=[]\n",
    "    #mesh.enls=[]\n",
    "    for i in range(abs(n-n0)):\n",
    "        a=i+n0\n",
    "        for j in range(abs(m-m0)):\n",
    "            b=j+m0\n",
    "            #Carga contornos de celda\n",
    "            red.append([m2V(vecU,vecV,(a,b)),m2V(vecU,vecV,(a+1,b))])\n",
    "            red.append([m2V(vecU,vecV,(a,b)),m2V(vecU,vecV,(a,b+1))])\n",
    "            red.append([m2V(vecU,vecV,(a+1,b)),m2V(vecU,vecV,(a+1,b+1))])\n",
    "            red.append([m2V(vecU,vecV,(a,b+1)),m2V(vecU,vecV,(a+1,b+1))])\n",
    "            #Carga los atomos\n",
    "            for c in mesh.atms:\n",
    "                for at in c:\n",
    "                    (pu,pv) = at.pos\n",
    "                    na = m2V(vecU,vecV,(a+pu,b+pv))\n",
    "                    ats.append(na)\n",
    "                    col.append(at.color)\n",
    "            #Carga los enlaces\n",
    "            for (ei,ef) in mesh.enls:\n",
    "                (ei1,ei2) = ei\n",
    "                (ef1,ef2) = ef\n",
    "                o = m2V(vecU,vecV,(a+ei1,b+ei2))\n",
    "                f = m2V(vecU,vecV,(a+ef1,b+ef2))\n",
    "                enls.append([o,f])\n",
    "    fig, maxs = plt.subplots()\n",
    "    lis = np.array(ats)\n",
    "    xs, ys = lis[:,0], lis[:,1]\n",
    "    #Dibuja los Atomos\n",
    "    maxs.scatter(xs,ys, color=col,s=t*5)\n",
    "    lc = mc.LineCollection(np.array(enls), colors='silver', linewidths=(t/15))\n",
    "    lr = mc.LineCollection(np.array(red), colors='gray', linewidths=(t/20))\n",
    "    #Dibuja los Enlaces\n",
    "    maxs.add_collection(lc)\n",
    "    #Dibuja los contornos de las celdas\n",
    "    maxs.add_collection(lr)\n",
    "    maxs.axes.xaxis.set_visible(False)\n",
    "    maxs.axes.yaxis.set_visible(False)\n",
    "    medX = ((lmsx[0]+lmsx[1])/2)\n",
    "    medY = ((lmsy[0]+lmsy[1])/2)\n",
    "    maxs.set(xlim=(medX-+(difMax/2),medX+(difMax/2)), ylim = (medY-+(difMax/2),medY+(difMax/2)))\n",
    "    if name!='':\n",
    "        name=name+\".png\"\n",
    "        plt.savefig(name,dpi=300, bbox_inches='tight')\n",
    "    plt.show()\n",
    "    return 1\n",
    "\n",
    "def isitin2(m,cent, sm, slvl):\n",
    "    '''Verifica que átomos pertenecientes a una celda de la malla \"m\" con centro en \"cen\" que se encuentran en\n",
    "la celda principal de la malla \"sm\". Todos los átomos que lo estén se agregan a los átomos de sm.\n",
    "\n",
    "m -> Malla de la que vamos a copiar su celda unitaria sobre la otra\n",
    "cen -> Posiciòn del origen de la celda unitaria\n",
    "sm -> Malla sobre la que copiaremos los elementos de la celda unitaria de m que quedan dentro de esta.\n",
    "slvl -> Maneja el nivel de capa de sm en que posicionamos m\n",
    "'''\n",
    "    \n",
    "    er = 1/(10**7)\n",
    "    inUnit = False\n",
    "    (u1,u2) = m.u\n",
    "    (v1,v2) = m.v\n",
    "    (p1,p2) = sm.u\n",
    "    (q1,q2) = sm.v\n",
    "    eq0 = (p2*q1)-(p1*q2)\n",
    "    eq1 = (q1*u2)-(q2*u1)\n",
    "    eq2 = (q1*v2)-(q2*v1)\n",
    "    eq3 = (p2*u1)-(p1*u2)\n",
    "    eq4 = (p2*v1)-(p1*v2)\n",
    "    for c in m.atms:# Iteramos en cada lista de Atomos de la matriz m\n",
    "        nc=[]\n",
    "        for a in c:# Iteramos en cada atomo de la lista\n",
    "            (x,y) = sumaV(cent,a.pos)\n",
    "            # Calculamos la posición del átomo con respecto a las coordenadas expresadas en los vectores de sm\n",
    "            nx = (eq1*x+eq2*y)/eq0 \n",
    "            ny = (eq3*x+eq4*y)/eq0\n",
    "            if (nx<(1+er) and nx>(0-er)) and (ny<(1+er) and ny>(0-er)):\n",
    "                nAtm = Atomo((nx,ny),posZ=a.posZ,color=a.color,sig=a.sig, lvl=(a.lvl+slvl))\n",
    "                #print(\"Agregado atomo\",nAtm)\n",
    "                nAtm.clasifica(sm.atms)\n",
    "    for e in m.enls:\n",
    "        (x1,y1) = sumaV(cent,e[0])\n",
    "        (x2,y2) = sumaV(cent,e[1])\n",
    "        (ox,oy) = ((eq1*x1+eq2*y1)/eq0,(eq3*x1+eq4*y1)/eq0)\n",
    "        f = ((eq1*x2+eq2*y2)/eq0,(eq3*x2+eq4*y2)/eq0)\n",
    "        if (ox<1 and ox>0) and (oy<1 and oy>0):\n",
    "            sm.enls.append([(ox,oy),f])\n",
    "    return 1\n",
    "\n",
    "def megeCut2(mo, sm, lvl=0):\n",
    "    (u1,u2), (v1,v2) = mo.u, mo.v\n",
    "    (p1,p2), (q1,q2) = sm.u, sm.v\n",
    "    np1 = ((p2*v1)-(p1*v2))/((u2*v1)-(u1*v2))\n",
    "    np2 = ((p1*u2)-(p2*u1))/((u2*v1)-(u1*v2))\n",
    "    nq1 = ((q2*v1)-(q1*v2))/((u2*v1)-(u1*v2))\n",
    "    nq2 = ((q1*u2)-(q2*u1))/((u2*v1)-(u1*v2))\n",
    "    npq1 = np1+nq1\n",
    "    npq2 = np2+nq2\n",
    "    lu = [round(min(np1,nq1,npq1,0)-1),round(max(np1,nq1,npq1,0)+1)]\n",
    "    lv = [round(min(np2,nq2,npq2,0)-1),round(max(np2,nq2,npq2,0)+1)]\n",
    "    for i in range(lu[1]-lu[0]):\n",
    "        a = i+lu[0]\n",
    "        for j in range(lv[1]-lv[0]):\n",
    "            b = j+lv[0]\n",
    "            isitin2(mo,(a,b),sm,lvl)\n",
    "    return 1\n",
    "\n",
    "def superMesh2(su,sv,loMs):\n",
    "    '''Crea una SuperMalla en bace a una lista de Mallas \"loMs\" con los vectores su y sv'''\n",
    "    sM = Malla(su,sv,atms=[],enls=[])\n",
    "    sM.prof=0\n",
    "    i=0\n",
    "    for m in loMs:\n",
    "        megeCut2(m, sM, lvl=i)\n",
    "        sM.prof=sM.prof+m.prof\n",
    "        i = (i+1)*m.prof\n",
    "    return sM"
   ]
  },
  {
   "cell_type": "code",
   "execution_count": null,
   "id": "9e01cea4",
   "metadata": {},
   "outputs": [],
   "source": [
    "len(G_WS2.enls)"
   ]
  },
  {
   "cell_type": "code",
   "execution_count": null,
   "id": "1becc99b",
   "metadata": {},
   "outputs": [],
   "source": [
    "#Gfn.enls=[]\n",
    "for i in range(36):\n",
    "    th = 10*i\n",
    "    mr = Gfn.mRot(th)\n",
    "    G_WSe2 = superMesh2(multV(20,WSe2.u),rota(multV(20,WSe2.u),90),[WSe2,Gfn.mRot(th)])\n",
    "    #G_WSe2.enls=[]\n",
    "    nombre = \"bicapa/G({}º) sobre WSe_2\".format(th)\n",
    "    showme(G_WSe2,1,1,name=nombre,t=10)\n",
    "    #G_WSe2.exporta(name=nombre)"
   ]
  },
  {
   "cell_type": "code",
   "execution_count": null,
   "id": "b5d4b233",
   "metadata": {},
   "outputs": [],
   "source": [
    "G_WSe2 = superMesh2(rota(multV(20,WSe2.u),30),rota(multV(20,WSe2.v),30),[Gfn])\n",
    "showme(G_WSe2,1,1,t=5, name='grafeno')"
   ]
  },
  {
   "cell_type": "code",
   "execution_count": null,
   "id": "4473c1fd",
   "metadata": {},
   "outputs": [],
   "source": [
    "P0 = (2.777708844,7.386440292)\n",
    "P1 = (0.744396016,8.863728703)\n",
    "P2 = (4.627677254,8.863728703)\n",
    "V1 = m2V(P0,P1,(-1,1))\n",
    "V2 = m2V(P0,P2,(-1,1))\n",
    "(V1,V2)"
   ]
  },
  {
   "cell_type": "code",
   "execution_count": null,
   "id": "579fab12",
   "metadata": {},
   "outputs": [],
   "source": [
    "P0 = (2.777708844,7.386440292)\n",
    "P1 = (0.511063909,9.330239998)\n",
    "P2 = (4.977676103,8.163959998)\n",
    "V3 = m2V(P0,P1,(-1,1))\n",
    "V4 = m2V(P0,P2,(-1,1))\n",
    "(V3,V4)"
   ]
  },
  {
   "cell_type": "code",
   "execution_count": null,
   "id": "5f9e0774",
   "metadata": {},
   "outputs": [],
   "source": [
    "cosa1=hexa6(2)"
   ]
  },
  {
   "cell_type": "code",
   "execution_count": null,
   "id": "2ad99722",
   "metadata": {},
   "outputs": [],
   "source": [
    "cosa2=hexa6(2)\n",
    "cosa2.u, cosa2.v = V4, V3"
   ]
  },
  {
   "cell_type": "code",
   "execution_count": null,
   "id": "5598ff22",
   "metadata": {},
   "outputs": [],
   "source": [
    "cosa1.OriginalU = V2\n",
    "cosa1.OriginalV = V1\n",
    "cosa2.OriginalU = V4\n",
    "cosa2.OriginalV = V3"
   ]
  },
  {
   "cell_type": "code",
   "execution_count": null,
   "id": "b8042e63",
   "metadata": {},
   "outputs": [],
   "source": [
    "showme(cosa2,5,5)"
   ]
  },
  {
   "cell_type": "code",
   "execution_count": null,
   "id": "4ab0a2a7",
   "metadata": {},
   "outputs": [],
   "source": [
    "cAng(V2,(1,0))"
   ]
  },
  {
   "cell_type": "code",
   "execution_count": null,
   "id": "8c958488",
   "metadata": {},
   "outputs": [],
   "source": [
    "cosa1.exporta(name='lineasC1')\n",
    "cosa2.exporta(name='lineasC2')"
   ]
  },
  {
   "cell_type": "code",
   "execution_count": null,
   "id": "872a5f45",
   "metadata": {},
   "outputs": [],
   "source": [
    "print(cosa1.mRot(-cAng(V2,(1,0))))"
   ]
  },
  {
   "cell_type": "code",
   "execution_count": null,
   "id": "9fedd582",
   "metadata": {},
   "outputs": [],
   "source": [
    "print(cosa2.mRot(-cAng(V4,(1,0))))"
   ]
  },
  {
   "cell_type": "code",
   "execution_count": null,
   "id": "bdf60f94",
   "metadata": {},
   "outputs": [],
   "source": [
    "print(cosa2)"
   ]
  },
  {
   "cell_type": "code",
   "execution_count": null,
   "id": "70f8c84a",
   "metadata": {},
   "outputs": [],
   "source": [
    "2.3674383133+(dist((0,0),V1)-dist((0,0),V2))/2"
   ]
  },
  {
   "cell_type": "code",
   "execution_count": null,
   "id": "18e13db7",
   "metadata": {},
   "outputs": [],
   "source": [
    "1-(dist((0,0),V4)/2.66)"
   ]
  },
  {
   "cell_type": "code",
   "execution_count": null,
   "id": "28b7d2ab",
   "metadata": {},
   "outputs": [],
   "source": [
    "(m2V(V4,V3,(5,-2)),m2V(V2,V1,(4,-4)))"
   ]
  },
  {
   "cell_type": "code",
   "execution_count": null,
   "id": "2bfb5d68",
   "metadata": {},
   "outputs": [],
   "source": [
    "(1-(dist((0,0),V1)/2.44),1-(dist((0,0),V2)/2.44))"
   ]
  },
  {
   "cell_type": "code",
   "execution_count": 8,
   "id": "ca2b54be",
   "metadata": {},
   "outputs": [
    {
     "name": "stdout",
     "output_type": "stream",
     "text": [
      ">>44.86°:(1,3)-(3,1): Delta=99.42488723602966% : 0.07403117875523296\n",
      "----------\n",
      "44.86°:0.09163848849554142\n",
      "\tdelta1=0.10924579823584987\n",
      "\tdelta2=0.07403117875523296\n",
      "----------\n",
      ">44.86°:(1,-1)-(0,-1): Delta=98.1289857960563% : 0.10924579823584987\n",
      ">>44.86°:(1,3)-(3,1): Delta=99.42488723602966% : 0.07403117875523296\n",
      ">>44.86°:(2,2)-(3,0): Delta=99.32157849666339% : 0.11012795006032597\n",
      ">>44.86°:(2,6)-(6,2): Delta=99.42488723602966% : 0.14806235751046593\n",
      "----------\n",
      "44.86°:0.09163848849554142\n",
      "\tdelta1=0.10924579823584987\n",
      "\tdelta2=0.07403117875523296\n",
      "----------\n",
      "0.15000000000000002\n"
     ]
    },
    {
     "data": {
      "text/plain": [
       "[[[[1, -1], [0, -1], 0.981289857960563, 0.10924579823584987]],\n",
       " [[[1, 3], [3, 1], 0.9942488723602966, 0.07403117875523296],\n",
       "  [[2, 2], [3, 0], 0.993215784966634, 0.11012795006032597],\n",
       "  [[2, 6], [6, 2], 0.9942488723602966, 0.14806235751046593]]]"
      ]
     },
     "execution_count": 8,
     "metadata": {},
     "output_type": "execute_result"
    }
   ],
   "source": [
    "gcA=GeSeA()\n",
    "gcB=GeSeB()\n",
    "res=[[],[]]\n",
    "lim=0.05\n",
    "while (len(res[0])<1 or len(res[1])<1):\n",
    "    lim=lim+0.05\n",
    "    res, m = calculaPares(gcA.vectors(), gcB.vectors(), 44.86, maxIt=30, eps=lim)\n",
    "print(lim)\n",
    "res"
   ]
  },
  {
   "cell_type": "code",
   "execution_count": 9,
   "id": "dbf2800b",
   "metadata": {},
   "outputs": [
    {
     "data": {
      "image/png": "[encoded data removed]",
      "text/plain": [
       "<Figure size 720x720 with 1 Axes>"
      ]
     },
     "metadata": {
      "needs_background": "light"
     },
     "output_type": "display_data"
    },
    {
     "data": {
      "text/plain": [
       "1"
      ]
     },
     "execution_count": 9,
     "metadata": {},
     "output_type": "execute_result"
    }
   ],
   "source": [
    "(sa,sb)=gcA.vectors()\n",
    "(sa,sb)=transfVs(sa,sb,(1,1,-1,3))\n",
    "\n",
    "sM=superMesh(sa,sb,[gcA, gcB.mRot(44.86)])\n",
    "sM.name=\"Gese-Beta sobre GeSe-Alpha (rotado 44.86º)\"\n",
    "sM.exporta()\n",
    "sM.showNM(3,3,t=70)"
   ]
  },
  {
   "cell_type": "code",
   "execution_count": 10,
   "id": "42c3bb7f",
   "metadata": {},
   "outputs": [
    {
     "data": {
      "text/plain": [
       "'GeSe-Alfa'"
      ]
     },
     "execution_count": 10,
     "metadata": {},
     "output_type": "execute_result"
    }
   ],
   "source": [
    "gcA.name"
   ]
  },
  {
   "cell_type": "code",
   "execution_count": 17,
   "id": "2e1230b1",
   "metadata": {},
   "outputs": [
    {
     "name": "stdout",
     "output_type": "stream",
     "text": [
      "((4.0130319595, -4.048211984), (4.0130319595, 12.144635952)) ((4.0130319595, -4.048211984), (4.0130319595, 12.144635952))\n",
      "0.0 0.0\n"
     ]
    }
   ],
   "source": [
    "vec1,vec2=gcA.vectors()\n",
    "c,d=gcB.vectors()\n",
    "(p1,p2),(p3,p4)=transfVs(vec1,vec2,(1,1,-1,3)),transfVs(c,d,(0,3,-1,1))\n",
    "print((p1,p2),(p3,p4))\n",
    "print(dist(p1,p3),dist(p2,p4))"
   ]
  },
  {
   "cell_type": "code",
   "execution_count": 12,
   "id": "2e74866d",
   "metadata": {},
   "outputs": [],
   "source": [
    "def inv2x2(m):\n",
    "    a,b,c,d = m\n",
    "    det = (a*d)-(b*c)\n",
    "    return (d/det, -b/det, -c/det, a/det)"
   ]
  },
  {
   "cell_type": "markdown",
   "id": "76eb4b5d",
   "metadata": {},
   "source": [
    "### Matrices de transformación:\n",
    "\n",
    "$$\n",
    "T_{a}=\n",
    "\\left(\n",
    "    \\begin{array}{cc}\n",
    "        1 & 1 & 0 \\\\\n",
    "        -1 & 3 & 0 \\\\\n",
    "        0 & 0 & 1\n",
    "    \\end{array}\n",
    "\\right)\n",
    "\\,\n",
    "T_{b}=\n",
    "\\left(\n",
    "    \\begin{array}{cc}\n",
    "        0 & 3 & 0 \\\\\n",
    "        -1 & 1 & 0 \\\\\n",
    "        0 & 0 & 1\n",
    "    \\end{array}\n",
    "\\right)\n",
    "$$\n",
    "---\n",
    "\n",
    "$$\n",
    "T_{a}=\n",
    "\\left(\n",
    "    \\begin{array}{cc}\n",
    "        0 & 0 & 1 \\\\\n",
    "        1 & 1 & 0 \\\\\n",
    "        -1 & 3 & 0\n",
    "    \\end{array}\n",
    "\\right)\n",
    "\\,\n",
    "T_{b}=\n",
    "\\left(\n",
    "    \\begin{array}{cc}\n",
    "        0 & 0 & 1 \\\\\n",
    "        0 & 3 & 0 \\\\\n",
    "        -1 & 1 & 0\n",
    "    \\end{array}\n",
    "\\right)\n",
    "$$\n",
    "---"
   ]
  },
  {
   "cell_type": "code",
   "execution_count": 13,
   "id": "58ed4915",
   "metadata": {},
   "outputs": [
    {
     "name": "stdout",
     "output_type": "stream",
     "text": [
      "SuperVA = (4.0130319595, -4.048211984)\n",
      "SuperVB = (4.0130319595, 12.144635952)\n",
      "|SuperVA| = 5.700214537661687\n",
      "|SuperVB| = 12.790488963076406\n",
      "Ang. interno = 116.96459793635009°\n"
     ]
    }
   ],
   "source": [
    "sv1,sv2 = transfVs(vec1,vec2,(1,1,-1,3))\n",
    "print(\"SuperVA = {}\\nSuperVB = {}\".format(sv1,sv2))\n",
    "print(\"|SuperVA| = {}\\n|SuperVB| = {}\".format(dist(sv1,(0,0)),dist(sv2,(0,0))))\n",
    "print(\"Ang. interno = {}°\".format(cAng(sv1,sv2)))\n"
   ]
  },
  {
   "cell_type": "code",
   "execution_count": 14,
   "id": "d91b7334",
   "metadata": {},
   "outputs": [
    {
     "name": "stdout",
     "output_type": "stream",
     "text": [
      "x = 4.0130\n",
      "y = -4.0482\n",
      "x' = 4.0130\n",
      "y' = 12.1446\n"
     ]
    }
   ],
   "source": [
    "#Cargamos Valores de la Matriz de super vectores\n",
    "(x,y) = sv1\n",
    "alfaX, alfaY = sv2\n",
    "print(\"x = {:.4f}\\ny = {:.4f}\".format(x,y))\n",
    "print(\"x' = {:.4f}\\ny' = {:.4f}\".format(alfaX, alfaY))"
   ]
  },
  {
   "cell_type": "code",
   "execution_count": 15,
   "id": "bd21c27d",
   "metadata": {},
   "outputs": [
    {
     "name": "stdout",
     "output_type": "stream",
     "text": [
      "Cambiamos capa1: ((4.0130319595, 0.0), (0.0, 4.048211984))\n",
      "Cambiamos capa1: ((2.6753546396666668, 2.6988079893333334), (-4.0130319595, 4.048211984))\n",
      "a  = (4.0130 , 0.0000)\n",
      "b  = (0.0000,4.0482)\n",
      "a' = (2.6754 , 2.6988)\n",
      "b' = (-4.0130,4.0482)\n"
     ]
    }
   ],
   "source": [
    "#Calculamos el inverso de la matris de Transformación para capa1\n",
    "t1 = (1,1,-1,3)\n",
    "t1i = inv2x2(t1)\n",
    "#Calculamos el inverso de la matris de Transformación para capa\n",
    "t2 = (0,3,-1,1)\n",
    "t2i = inv2x2(t2)\n",
    "# Redefinimos los vectores generadores de ambas capas en sus 2 versiones con los que obtuvimos.\n",
    "va, vb = transfVs((x,y), (alfaX, alfaY),t1i)\n",
    "print(\"Cambiamos capa1:\",(va,vb))\n",
    "gcA.setNewVectors(va, vb) \n",
    "va, vb = transfVs((x,y), (alfaX, alfaY),t2i)\n",
    "print(\"Cambiamos capa1:\",(va,vb))\n",
    "gcB.setNewVectors(va, vb)\n",
    "#Actualizando valores\n",
    "ru,rv=gcB.u,gcB.v\n",
    "(a1,a2),(b1,b2) = u,v=gcA.u,gcA.v\n",
    "print(\"a  = ({:.4f} , {:.4f})\\nb  = ({:.4f},{:.4f})\".format(a1,a2,b1,b2))\n",
    "(a1,a2),(b1,b2) = gcB.u,gcB.v\n",
    "print(\"a' = ({:.4f} , {:.4f})\\nb' = ({:.4f},{:.4f})\".format(a1,a2,b1,b2))"
   ]
  },
  {
   "cell_type": "code",
   "execution_count": 20,
   "id": "524cbefb",
   "metadata": {},
   "outputs": [
    {
     "data": {
      "image/png": "[encoded data removed]",
      "text/plain": [
       "<Figure size 720x720 with 1 Axes>"
      ]
     },
     "metadata": {
      "needs_background": "light"
     },
     "output_type": "display_data"
    },
    {
     "data": {
      "text/plain": [
       "1"
      ]
     },
     "execution_count": 20,
     "metadata": {},
     "output_type": "execute_result"
    }
   ],
   "source": [
    "(sa,sb)=gcA.vectors()\n",
    "(sa,sb)=transfVs(sa,sb,(1,1,-1,3))\n",
    "\n",
    "sM=superMesh(sa,sb,[gcA, gcB])\n",
    "sM.name=\"Gese-Beta sobre GeSe-Alpha (rotado 44.86º)Mod\"\n",
    "sM.exporta()\n",
    "sM.showNM(3,3,t=70)"
   ]
  },
  {
   "cell_type": "code",
   "execution_count": 27,
   "id": "af302fba",
   "metadata": {},
   "outputs": [
    {
     "name": "stdout",
     "output_type": "stream",
     "text": [
      "2.6753546396666668 -4.0130319595 2.6988079893333334 4.048211984\n"
     ]
    }
   ],
   "source": [
    "((a1m,a2m),(b1m,b2m))=gcB.vectors()\n",
    "print(a1m,b1m,a2m,b2m)"
   ]
  },
  {
   "cell_type": "code",
   "execution_count": 28,
   "id": "5a5c1f16",
   "metadata": {},
   "outputs": [
    {
     "name": "stdout",
     "output_type": "stream",
     "text": [
      "2.712063940061041 -4.097463697669707 2.6988425749596425 4.11753677048961\n"
     ]
    }
   ],
   "source": [
    "((a1o,a2o),(b1o,b2o))=GeSeB().mRot(44.86).vectors()\n",
    "print(a1o,b1o,a2o,b2o)"
   ]
  },
  {
   "cell_type": "code",
   "execution_count": 32,
   "id": "9a1cd42b",
   "metadata": {},
   "outputs": [],
   "source": [
    "(in1,in2,in3,in4)=inv2x2((a1m,b1m,a2m,b2m))\n",
    "inv1,inv2=(in1,in3),(in2,in4)"
   ]
  },
  {
   "cell_type": "code",
   "execution_count": 33,
   "id": "0d6f4c58",
   "metadata": {},
   "outputs": [
    {
     "data": {
      "text/plain": [
       "((1.0068670494964906, -0.004569489565042439),\n",
       " (-0.002935947637455305, 1.019082090002982))"
      ]
     },
     "execution_count": 33,
     "metadata": {},
     "output_type": "execute_result"
    }
   ],
   "source": [
    "transfVs(inv1,inv2,(a1o,b1o,a2o,b2o))"
   ]
  },
  {
   "cell_type": "code",
   "execution_count": 38,
   "id": "7d32f010",
   "metadata": {},
   "outputs": [],
   "source": [
    "def toMat(v1,v2):\n",
    "    (a,b)=v1\n",
    "    (c,d)=v2\n",
    "    return(a,c,b,d)"
   ]
  },
  {
   "cell_type": "code",
   "execution_count": 42,
   "id": "e6f81148",
   "metadata": {},
   "outputs": [
    {
     "data": {
      "text/plain": [
       "(1.0068670494964906,\n",
       " -0.002935947637455305,\n",
       " -0.004569489565042439,\n",
       " 1.019082090002982)"
      ]
     },
     "execution_count": 42,
     "metadata": {},
     "output_type": "execute_result"
    }
   ],
   "source": [
    "x1,x2=transfVs(inv1,inv2,(a1o,b1o,a2o,b2o))\n",
    "toMat(x1,x2)"
   ]
  },
  {
   "cell_type": "code",
   "execution_count": 46,
   "id": "7497e16f",
   "metadata": {},
   "outputs": [
    {
     "data": {
      "text/plain": [
       "0.2600250641771154"
      ]
     },
     "execution_count": 46,
     "metadata": {},
     "output_type": "execute_result"
    }
   ],
   "source": [
    "cAng(x1,(1,0))"
   ]
  },
  {
   "cell_type": "code",
   "execution_count": 45,
   "id": "28d8f8ba",
   "metadata": {},
   "outputs": [
    {
     "data": {
      "text/plain": [
       "90.0"
      ]
     },
     "execution_count": 45,
     "metadata": {},
     "output_type": "execute_result"
    }
   ],
   "source": [
    "cAng((a1o,a2o),(b1o,b2o))"
   ]
  },
  {
   "cell_type": "code",
   "execution_count": 48,
   "id": "cb906339",
   "metadata": {},
   "outputs": [
    {
     "name": "stdout",
     "output_type": "stream",
     "text": [
      "GeSe-Alfa\n",
      "1.0\n",
      "        3.8261001110         0.0000000000         0.0000000000\n",
      "        0.0000000000         5.8088998795         0.0000000000\n",
      "        0.0000000000         0.0000000000         18.0892009735\n",
      "\tGe\tSe\n",
      "\t2\t2\n",
      "Direct\n",
      "     0.7500000000         0.3677821160         0.1605478230\n",
      "     0.2500000000         0.8684009310         0.0633941810\n",
      "     0.7500000000         0.8466233610         0.1608372630\n",
      "     0.2500000000         0.3469434380         0.0630845500\n"
     ]
    }
   ],
   "source": [
    "print(GeSeB())"
   ]
  },
  {
   "cell_type": "code",
   "execution_count": 50,
   "id": "1483a5b4",
   "metadata": {},
   "outputs": [
    {
     "name": "stdout",
     "output_type": "stream",
     "text": [
      "GeSe-Alfa\n",
      "1.0\n",
      "        3.8001430251         -0.0000000000         0.0000000000\n",
      "        0.0497515940         5.6999974170         0.0000000000\n",
      "        0.0000000000         0.0000000000         18.0892009735\n",
      "\tGe\tSe\n",
      "\t2\t2\n",
      "Direct\n",
      "     0.7500000000         0.3677821160         0.1605478230\n",
      "     0.2500000000         0.8684009310         0.0633941810\n",
      "     0.7500000000         0.8466233610         0.1608372630\n",
      "     0.2500000000         0.3469434380         0.0630845500\n"
     ]
    }
   ],
   "source": [
    "print(gcB)"
   ]
  },
  {
   "cell_type": "code",
   "execution_count": null,
   "id": "cf65e64e",
   "metadata": {},
   "outputs": [],
   "source": []
  }
 ],
 "metadata": {
  "kernelspec": {
   "display_name": "Python 3 (ipykernel)",
   "language": "python",
   "name": "python3"
  },
  "language_info": {
   "codemirror_mode": {
    "name": "ipython",
    "version": 3
   },
   "file_extension": ".py",
   "mimetype": "text/x-python",
   "name": "python",
   "nbconvert_exporter": "python",
   "pygments_lexer": "ipython3",
   "version": "3.9.8"
  }
 },
 "nbformat": 4,
 "nbformat_minor": 5
}
