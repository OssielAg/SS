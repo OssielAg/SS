{
 "cells": [
  {
   "cell_type": "code",
   "execution_count": 1,
   "id": "4027bd97",
   "metadata": {},
   "outputs": [],
   "source": [
    "from src.Funciones import *"
   ]
  },
  {
   "cell_type": "code",
   "execution_count": 151,
   "id": "368c8648",
   "metadata": {},
   "outputs": [],
   "source": [
    "def buscaEsquina(m, j, e1, e2):\n",
    "    ind = -1\n",
    "    val = (10.0)**300\n",
    "    for i in range(8):\n",
    "        if not(i==e1 or i==e2):\n",
    "            if (m[i][j]>0):\n",
    "                c = m[i][10]/m[i][j]\n",
    "                if c < val:\n",
    "                    val = c\n",
    "                    ind = i\n",
    "    return ind\n",
    "def opera(m,e,s):\n",
    "    m[s] = m[s]/(m[s][e])\n",
    "    for i in range(8):\n",
    "        if i!=s:\n",
    "            piv=m[i][e]\n",
    "            m[i] = m[i]-(m[s]*piv)\n",
    "\n",
    "def pmat(m):\n",
    "    for i in range(len(m)):\n",
    "        lin = \"\"\n",
    "        for j in range(len(m[0])):\n",
    "            lin = lin+\"\\t\"+str(round(m[i][j],2))\n",
    "        print(lin)\n",
    "    print(\"\")\n",
    "    \n",
    "def calcVerticesFBZ(b1, b2):\n",
    "    pts = []\n",
    "    vecinos=[m2V(b1,b2,( 1, 0)),m2V(b1,b2,( 1, 1)),\n",
    "             m2V(b1,b2,( 0, 1)),m2V(b1,b2,(-1, 1)),\n",
    "             m2V(b1,b2,(-1, 0)),m2V(b1,b2,(-1,-1)),\n",
    "             m2V(b1,b2,( 0,-1)),m2V(b1,b2,( 1,-1))]\n",
    "    # Creamos el espacio para la matriz en que operaremos\n",
    "    v = np.array(vecinos)\n",
    "    eq = np.zeros((8,11))\n",
    "    et = [\"V1\",\"V2\",\"V3\",\"V4\",\"V5\",\"V6\",\"V7\",\"V8\"]\n",
    "    xy = [10,10]\n",
    "    cruce = [-1,-1]\n",
    "    # Damos los valores correspondientes\n",
    "    for i in range(8):\n",
    "        eq[i][i] = 1\n",
    "        eq[i][8] = 2*v[i][0]\n",
    "        eq[i][9] = 2*v[i][1]\n",
    "        eq[i][10] = (v[i][0]**2) + (v[i][1]**2)\n",
    "    pmat(eq)\n",
    "    # Entra valor de X\n",
    "    ind = buscaEsquina(eq,8,xy[0],xy[1])\n",
    "    xy[0]=ind\n",
    "    cruce[0]=ind\n",
    "    opera(eq,8,ind)\n",
    "    # Entra valor de Y\n",
    "    ind = buscaEsquina(eq,9,xy[0],xy[1])\n",
    "    xy[1]=ind\n",
    "    cruce[1]=ind\n",
    "    opera(eq,9,ind)\n",
    "    p = (round(eq[xy[0]][10],10),round(eq[xy[1]][10],10))\n",
    "    pts.append(p)\n",
    "    pmat(eq)\n",
    "    cont=0\n",
    "    while True:\n",
    "        cont+=1\n",
    "        e = cruce[0]\n",
    "        s = buscaEsquina(eq,e,xy[0],xy[1])\n",
    "        opera(eq,e,s)\n",
    "        pmat(eq)\n",
    "        cruce[0] = cruce[1]\n",
    "        cruce[1] = s\n",
    "        p2 = (round(eq[xy[0]][10],10),round(eq[xy[1]][10],10))\n",
    "        if p2!=p:\n",
    "            if p2==pts[0]:\n",
    "                break\n",
    "            p=p2\n",
    "            pts.append(p)\n",
    "        if cont>10:\n",
    "            break\n",
    "    \n",
    "    return pts, eq\n"
   ]
  },
  {
   "cell_type": "code",
   "execution_count": 155,
   "id": "9ce7f04e",
   "metadata": {},
   "outputs": [
    {
     "name": "stdout",
     "output_type": "stream",
     "text": [
      "\t1.0\t0.0\t0.0\t0.0\t0.0\t0.0\t0.0\t0.0\t12.0\t0.0\t36.0\n",
      "\t0.0\t1.0\t0.0\t0.0\t0.0\t0.0\t0.0\t0.0\t12.0\t6.0\t45.0\n",
      "\t0.0\t0.0\t1.0\t0.0\t0.0\t0.0\t0.0\t0.0\t0.0\t6.0\t9.0\n",
      "\t0.0\t0.0\t0.0\t1.0\t0.0\t0.0\t0.0\t0.0\t-12.0\t6.0\t45.0\n",
      "\t0.0\t0.0\t0.0\t0.0\t1.0\t0.0\t0.0\t0.0\t-12.0\t0.0\t36.0\n",
      "\t0.0\t0.0\t0.0\t0.0\t0.0\t1.0\t0.0\t0.0\t-12.0\t-6.0\t45.0\n",
      "\t0.0\t0.0\t0.0\t0.0\t0.0\t0.0\t1.0\t0.0\t0.0\t-6.0\t9.0\n",
      "\t0.0\t0.0\t0.0\t0.0\t0.0\t0.0\t0.0\t1.0\t12.0\t-6.0\t45.0\n",
      "\n",
      "\t0.08\t0.0\t0.0\t0.0\t0.0\t0.0\t0.0\t0.0\t1.0\t0.0\t3.0\n",
      "\t-0.17\t0.17\t0.0\t0.0\t0.0\t0.0\t0.0\t0.0\t0.0\t1.0\t1.5\n",
      "\t1.0\t-1.0\t1.0\t0.0\t0.0\t0.0\t0.0\t0.0\t0.0\t0.0\t0.0\n",
      "\t2.0\t-1.0\t0.0\t1.0\t0.0\t0.0\t0.0\t0.0\t0.0\t0.0\t72.0\n",
      "\t1.0\t0.0\t0.0\t0.0\t1.0\t0.0\t0.0\t0.0\t0.0\t0.0\t72.0\n",
      "\t0.0\t1.0\t0.0\t0.0\t0.0\t1.0\t0.0\t0.0\t0.0\t0.0\t90.0\n",
      "\t-1.0\t1.0\t0.0\t0.0\t0.0\t0.0\t1.0\t0.0\t0.0\t0.0\t18.0\n",
      "\t-2.0\t1.0\t0.0\t0.0\t0.0\t0.0\t0.0\t1.0\t0.0\t0.0\t18.0\n",
      "\n",
      "\t0.0\t0.08\t-0.08\t0.0\t0.0\t0.0\t0.0\t0.0\t1.0\t0.0\t3.0\n",
      "\t0.0\t0.0\t0.17\t0.0\t0.0\t0.0\t0.0\t0.0\t0.0\t1.0\t1.5\n",
      "\t1.0\t-1.0\t1.0\t0.0\t0.0\t0.0\t0.0\t0.0\t0.0\t0.0\t0.0\n",
      "\t0.0\t1.0\t-2.0\t1.0\t0.0\t0.0\t0.0\t0.0\t0.0\t0.0\t72.0\n",
      "\t0.0\t1.0\t-1.0\t0.0\t1.0\t0.0\t0.0\t0.0\t0.0\t0.0\t72.0\n",
      "\t0.0\t1.0\t0.0\t0.0\t0.0\t1.0\t0.0\t0.0\t0.0\t0.0\t90.0\n",
      "\t0.0\t0.0\t1.0\t0.0\t0.0\t0.0\t1.0\t0.0\t0.0\t0.0\t18.0\n",
      "\t0.0\t-1.0\t2.0\t0.0\t0.0\t0.0\t0.0\t1.0\t0.0\t0.0\t18.0\n",
      "\n",
      "\t0.0\t0.0\t0.08\t-0.08\t0.0\t0.0\t0.0\t0.0\t1.0\t0.0\t-3.0\n",
      "\t0.0\t0.0\t0.17\t0.0\t0.0\t0.0\t0.0\t0.0\t0.0\t1.0\t1.5\n",
      "\t1.0\t0.0\t-1.0\t1.0\t0.0\t0.0\t0.0\t0.0\t0.0\t0.0\t72.0\n",
      "\t0.0\t1.0\t-2.0\t1.0\t0.0\t0.0\t0.0\t0.0\t0.0\t0.0\t72.0\n",
      "\t0.0\t0.0\t1.0\t-1.0\t1.0\t0.0\t0.0\t0.0\t0.0\t0.0\t0.0\n",
      "\t0.0\t0.0\t2.0\t-1.0\t0.0\t1.0\t0.0\t0.0\t0.0\t0.0\t18.0\n",
      "\t0.0\t0.0\t1.0\t0.0\t0.0\t0.0\t1.0\t0.0\t0.0\t0.0\t18.0\n",
      "\t0.0\t0.0\t0.0\t1.0\t0.0\t0.0\t0.0\t1.0\t0.0\t0.0\t90.0\n",
      "\n",
      "\t0.0\t0.0\t0.0\t0.0\t-0.08\t0.0\t0.0\t0.0\t1.0\t0.0\t-3.0\n",
      "\t0.0\t0.0\t0.0\t0.17\t-0.17\t0.0\t0.0\t0.0\t0.0\t1.0\t1.5\n",
      "\t1.0\t0.0\t0.0\t0.0\t1.0\t0.0\t0.0\t0.0\t0.0\t0.0\t72.0\n",
      "\t0.0\t1.0\t0.0\t-1.0\t2.0\t0.0\t0.0\t0.0\t0.0\t0.0\t72.0\n",
      "\t0.0\t0.0\t1.0\t-1.0\t1.0\t0.0\t0.0\t0.0\t0.0\t0.0\t0.0\n",
      "\t0.0\t0.0\t0.0\t1.0\t-2.0\t1.0\t0.0\t0.0\t0.0\t0.0\t18.0\n",
      "\t0.0\t0.0\t0.0\t1.0\t-1.0\t0.0\t1.0\t0.0\t0.0\t0.0\t18.0\n",
      "\t0.0\t0.0\t0.0\t1.0\t0.0\t0.0\t0.0\t1.0\t0.0\t0.0\t90.0\n",
      "\n",
      "\t0.0\t0.0\t0.0\t0.0\t-0.08\t0.0\t0.0\t0.0\t1.0\t0.0\t-3.0\n",
      "\t0.0\t0.0\t0.0\t0.0\t0.17\t-0.17\t0.0\t0.0\t0.0\t1.0\t-1.5\n",
      "\t1.0\t0.0\t0.0\t0.0\t1.0\t0.0\t0.0\t0.0\t0.0\t0.0\t72.0\n",
      "\t0.0\t1.0\t0.0\t0.0\t0.0\t1.0\t0.0\t0.0\t0.0\t0.0\t90.0\n",
      "\t0.0\t0.0\t1.0\t0.0\t-1.0\t1.0\t0.0\t0.0\t0.0\t0.0\t18.0\n",
      "\t0.0\t0.0\t0.0\t1.0\t-2.0\t1.0\t0.0\t0.0\t0.0\t0.0\t18.0\n",
      "\t0.0\t0.0\t0.0\t0.0\t1.0\t-1.0\t1.0\t0.0\t0.0\t0.0\t0.0\n",
      "\t0.0\t0.0\t0.0\t0.0\t2.0\t-1.0\t0.0\t1.0\t0.0\t0.0\t72.0\n",
      "\n",
      "\t0.0\t0.0\t0.0\t0.0\t0.0\t-0.08\t0.08\t0.0\t1.0\t0.0\t-3.0\n",
      "\t0.0\t0.0\t0.0\t0.0\t0.0\t0.0\t-0.17\t0.0\t0.0\t1.0\t-1.5\n",
      "\t1.0\t0.0\t0.0\t0.0\t0.0\t1.0\t-1.0\t0.0\t0.0\t0.0\t72.0\n",
      "\t0.0\t1.0\t0.0\t0.0\t0.0\t1.0\t0.0\t0.0\t0.0\t0.0\t90.0\n",
      "\t0.0\t0.0\t1.0\t0.0\t0.0\t0.0\t1.0\t0.0\t0.0\t0.0\t18.0\n",
      "\t0.0\t0.0\t0.0\t1.0\t0.0\t-1.0\t2.0\t0.0\t0.0\t0.0\t18.0\n",
      "\t0.0\t0.0\t0.0\t0.0\t1.0\t-1.0\t1.0\t0.0\t0.0\t0.0\t0.0\n",
      "\t0.0\t0.0\t0.0\t0.0\t0.0\t1.0\t-2.0\t1.0\t0.0\t0.0\t72.0\n",
      "\n",
      "\t0.08\t0.0\t0.0\t0.0\t0.0\t0.0\t0.0\t0.0\t1.0\t0.0\t3.0\n",
      "\t0.0\t0.0\t0.0\t0.0\t0.0\t0.0\t-0.17\t0.0\t0.0\t1.0\t-1.5\n",
      "\t1.0\t0.0\t0.0\t0.0\t0.0\t1.0\t-1.0\t0.0\t0.0\t0.0\t72.0\n",
      "\t-1.0\t1.0\t0.0\t0.0\t0.0\t0.0\t1.0\t0.0\t0.0\t0.0\t18.0\n",
      "\t0.0\t0.0\t1.0\t0.0\t0.0\t0.0\t1.0\t0.0\t0.0\t0.0\t18.0\n",
      "\t1.0\t0.0\t0.0\t1.0\t0.0\t0.0\t1.0\t0.0\t0.0\t0.0\t90.0\n",
      "\t1.0\t0.0\t0.0\t0.0\t1.0\t0.0\t0.0\t0.0\t0.0\t0.0\t72.0\n",
      "\t-1.0\t0.0\t0.0\t0.0\t0.0\t0.0\t-1.0\t1.0\t0.0\t0.0\t0.0\n",
      "\n",
      "\t0.08\t0.0\t0.0\t0.0\t0.0\t0.0\t0.0\t0.0\t1.0\t0.0\t3.0\n",
      "\t-0.17\t0.17\t0.0\t0.0\t0.0\t0.0\t0.0\t0.0\t0.0\t1.0\t1.5\n",
      "\t0.0\t1.0\t0.0\t0.0\t0.0\t1.0\t0.0\t0.0\t0.0\t0.0\t90.0\n",
      "\t-1.0\t1.0\t0.0\t0.0\t0.0\t0.0\t1.0\t0.0\t0.0\t0.0\t18.0\n",
      "\t1.0\t-1.0\t1.0\t0.0\t0.0\t0.0\t0.0\t0.0\t0.0\t0.0\t0.0\n",
      "\t2.0\t-1.0\t0.0\t1.0\t0.0\t0.0\t0.0\t0.0\t0.0\t0.0\t72.0\n",
      "\t1.0\t0.0\t0.0\t0.0\t1.0\t0.0\t0.0\t0.0\t0.0\t0.0\t72.0\n",
      "\t-2.0\t1.0\t0.0\t0.0\t0.0\t0.0\t0.0\t1.0\t0.0\t0.0\t18.0\n",
      "\n"
     ]
    }
   ],
   "source": [
    "a, eq=calcVerticesFBZ((6.0,0.0),(0.0,3.0))"
   ]
  },
  {
   "cell_type": "code",
   "execution_count": 156,
   "id": "9774500e",
   "metadata": {},
   "outputs": [
    {
     "data": {
      "text/plain": [
       "[(3.0, 1.5), (-3.0, 1.5), (-3.0, -1.5), (3.0, -1.5)]"
      ]
     },
     "execution_count": 156,
     "metadata": {},
     "output_type": "execute_result"
    }
   ],
   "source": [
    "a"
   ]
  },
  {
   "cell_type": "code",
   "execution_count": 123,
   "id": "2b4f08e8",
   "metadata": {},
   "outputs": [],
   "source": [
    "from matplotlib.patches import Polygon"
   ]
  },
  {
   "cell_type": "code",
   "execution_count": 157,
   "id": "656585d1",
   "metadata": {},
   "outputs": [
    {
     "data": {
      "image/png": "[encoded data removed]",
      "text/plain": [
       "<Figure size 720x720 with 1 Axes>"
      ]
     },
     "metadata": {
      "needs_background": "light"
     },
     "output_type": "display_data"
    }
   ],
   "source": [
    "ax = plt.subplot()\n",
    "hexa=Polygon(a,alpha=0.3, color = 'red')\n",
    "ax.add_patch(hexa)\n",
    "ax.autoscale_view()"
   ]
  },
  {
   "cell_type": "code",
   "execution_count": 140,
   "id": "2b88b23e",
   "metadata": {},
   "outputs": [],
   "source": []
  },
  {
   "cell_type": "code",
   "execution_count": 133,
   "id": "e82363cf",
   "metadata": {},
   "outputs": [],
   "source": [
    "plt.show()"
   ]
  },
  {
   "cell_type": "code",
   "execution_count": null,
   "id": "6527a597",
   "metadata": {},
   "outputs": [],
   "source": []
  }
 ],
 "metadata": {
  "kernelspec": {
   "display_name": "Python 3 (ipykernel)",
   "language": "python",
   "name": "python3"
  },
  "language_info": {
   "codemirror_mode": {
    "name": "ipython",
    "version": 3
   },
   "file_extension": ".py",
   "mimetype": "text/x-python",
   "name": "python",
   "nbconvert_exporter": "python",
   "pygments_lexer": "ipython3",
   "version": "3.9.8"
  }
 },
 "nbformat": 4,
 "nbformat_minor": 5
}
