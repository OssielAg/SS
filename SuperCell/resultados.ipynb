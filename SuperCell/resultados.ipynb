{
 "cells": [
  {
   "cell_type": "code",
   "execution_count": 1,
   "id": "7fe04568",
   "metadata": {},
   "outputs": [],
   "source": [
    "from src.Funciones import *"
   ]
  },
  {
   "cell_type": "code",
   "execution_count": 2,
   "id": "6860c6ac",
   "metadata": {},
   "outputs": [
    {
     "ename": "AttributeError",
     "evalue": "'Red' object has no attribute 'mRot30'",
     "output_type": "error",
     "traceback": [
      "\u001b[1;31m---------------------------------------------------------------------------\u001b[0m",
      "\u001b[1;31mAttributeError\u001b[0m                            Traceback (most recent call last)",
      "Input \u001b[1;32mIn [2]\u001b[0m, in \u001b[0;36m<cell line: 1>\u001b[1;34m()\u001b[0m\n\u001b[1;32m----> 1\u001b[0m r1 \u001b[38;5;241m=\u001b[39m \u001b[43mgrafeno\u001b[49m\u001b[43m(\u001b[49m\u001b[43m)\u001b[49m\u001b[38;5;241;43m.\u001b[39;49m\u001b[43mmRot30\u001b[49m\n\u001b[0;32m      2\u001b[0m r2m \u001b[38;5;241m=\u001b[39m grafeno3()\u001b[38;5;241m.\u001b[39mmRot(\u001b[38;5;241m13.17355\u001b[39m)\n",
      "\u001b[1;31mAttributeError\u001b[0m: 'Red' object has no attribute 'mRot30'"
     ]
    }
   ],
   "source": [
    "r1 = grafeno().mRot30\n",
    "r2m = grafeno3().mRot(13.17355)\n",
    "#r2 = importa(CdS.vasp)"
   ]
  },
  {
   "cell_type": "code",
   "execution_count": null,
   "id": "29e05816",
   "metadata": {},
   "outputs": [],
   "source": [
    "class sistem:\n",
    "    def __init__(self, lol, name=\"\", th=0.0):\n",
    "        '''\n",
    "        Inicializa el 'sistema' formado por la lista de Redes descrita en 'lol' dandole el nombre 'name'.\n",
    "        lol  -> Lista de redes que conforman el sistema\n",
    "        name -> Nombre del sistema\n",
    "        '''\n",
    "        self.redes = lol\n",
    "        self.name = name\n",
    "        self.theta = th\n",
    "        self.results = []\n",
    "    \n",
    "    def compute(self, rangeOfSearch=15, epsilon=0.1):\n",
    "        '''\n",
    "        Busca las variables que desciben las transformaciones que debe tener cada Red del sistema para coincidir con una Super-Red común a todas ellas.\n",
    "        rangeOfSearch -> Rango de busqueda de los posibles valores de transformaciòn de la red 1\n",
    "        epsilon       -> Error máximo permitido para las transformaciones\n",
    "        '''\n",
    "        if len(self.redes)==2:\n",
    "            lor = calculaPares(self.redes[0], self.redes[1], th=self.theta, maxIt=rangeOfSearch, eps=epsilon)\n",
    "            self.results = lor\n",
    "        \n",
    "    def analyze(self, rangeOfAngleSearch=(0.0,180.0), rangeOfSearch=15, precision=2, maxErr=0.05):\n",
    "        '''\n",
    "        Analiza el sistema buscando los ángulos de rotaciòn para red2 en los que sin modificar las redes el error es mínimo.\n",
    "        rangeOfAngleSearch -> Rango de búsqueda para el ángulo señalado por el par (ángulo inicial, ángulo final)\n",
    "        rangeOfSearch      -> Rango de busqueda de los posibles valores de transformaciòn de la red 1\n",
    "        precision          -> Precición de la busqueda dada por la cantidad de dìgitos despues del punto en que se busca (1=decimos de grado,2=centecimos de grado,...)\n",
    "        maxErr             -> Error màximo tolerable para ser aceptado\n",
    "        '''\n",
    "        if len(self.redes)==2:\n",
    "            return analiza(self.redes[0], self.redes[1], roAng=rangeOfAngleSearch, erMax=maxErr, mor=rangeOfSearch, accuracy=precision)"
   ]
  },
  {
   "cell_type": "code",
   "execution_count": null,
   "id": "1e2d4b77",
   "metadata": {},
   "outputs": [],
   "source": [
    "s1=sistem([r1,r2],name=\"sistema de prueba\")"
   ]
  },
  {
   "cell_type": "code",
   "execution_count": null,
   "id": "0cb7dcd5",
   "metadata": {},
   "outputs": [],
   "source": []
  },
  {
   "cell_type": "code",
   "execution_count": null,
   "id": "c6ebfe05",
   "metadata": {
    "scrolled": false
   },
   "outputs": [],
   "source": [
    "s1.analyze(rangeOfAngleSearch=(20.0,25.0), precision=3, maxErr=0.1)"
   ]
  },
  {
   "cell_type": "code",
   "execution_count": null,
   "id": "66a15588",
   "metadata": {},
   "outputs": [],
   "source": [
    "lor=calculaPares(r1,r2,eps=0.6)"
   ]
  },
  {
   "cell_type": "code",
   "execution_count": null,
   "id": "41eedf99",
   "metadata": {},
   "outputs": [],
   "source": [
    "l=top(lor)"
   ]
  },
  {
   "cell_type": "code",
   "execution_count": null,
   "id": "3b8ac6b0",
   "metadata": {},
   "outputs": [],
   "source": [
    "muestra(l,r1,r2)"
   ]
  },
  {
   "cell_type": "code",
   "execution_count": null,
   "id": "cfef2173",
   "metadata": {},
   "outputs": [],
   "source": [
    "p1=m2V(r1.a,r1.b,(0,-12))\n",
    "p2=m2V(r1.a,r1.b,(12,12))"
   ]
  },
  {
   "cell_type": "code",
   "execution_count": null,
   "id": "4a69c0dd",
   "metadata": {},
   "outputs": [],
   "source": [
    "r3=superMesh(p1,p2,[r1,r2])"
   ]
  },
  {
   "cell_type": "code",
   "execution_count": null,
   "id": "70e6cb14",
   "metadata": {},
   "outputs": [],
   "source": [
    "r3.showXY(2,2)"
   ]
  },
  {
   "cell_type": "code",
   "execution_count": null,
   "id": "3def92a5",
   "metadata": {},
   "outputs": [],
   "source": [
    "rx=superMesh((50,0),(0,50),[r1,r2])"
   ]
  },
  {
   "cell_type": "code",
   "execution_count": null,
   "id": "1c2e601f",
   "metadata": {},
   "outputs": [],
   "source": [
    "rx.showme()"
   ]
  },
  {
   "cell_type": "code",
   "execution_count": null,
   "id": "eb17d046",
   "metadata": {},
   "outputs": [],
   "source": [
    "analiza?"
   ]
  },
  {
   "cell_type": "code",
   "execution_count": null,
   "id": "e31c6f3a",
   "metadata": {},
   "outputs": [],
   "source": [
    "r1.theta"
   ]
  },
  {
   "cell_type": "code",
   "execution_count": null,
   "id": "3ba8ac2d",
   "metadata": {},
   "outputs": [],
   "source": [
    "ejemplos()"
   ]
  },
  {
   "cell_type": "code",
   "execution_count": null,
   "id": "01a3abcf",
   "metadata": {},
   "outputs": [],
   "source": [
    "rx.atms[0][0].color\n",
    "for i in range(len(rx.atms[0])):\n",
    "    rx.atms[0][i].color='blue'\n",
    "    "
   ]
  },
  {
   "cell_type": "code",
   "execution_count": null,
   "id": "e64b4474",
   "metadata": {},
   "outputs": [],
   "source": [
    "r3.reciprocalVectors"
   ]
  },
  {
   "cell_type": "code",
   "execution_count": null,
   "id": "a6a68ae4",
   "metadata": {},
   "outputs": [],
   "source": [
    "def buscaEsquina(m, j, e1, e2):\n",
    "    ind = -1\n",
    "    val = (10.0)**300\n",
    "    for i in range(len(m)):\n",
    "        if not(i==e1 or i==e2):\n",
    "            if (m[i][j]>0):\n",
    "                c = m[i][len(m)+2]/m[i][j]\n",
    "                if c < val:\n",
    "                    val = c\n",
    "                    ind = i\n",
    "    return ind\n",
    "def opera(m,e,s):\n",
    "    m[s] = m[s]/(m[s][e])\n",
    "    for i in range(len(m)):\n",
    "        if i!=s:\n",
    "            piv=m[i][e]\n",
    "            m[i] = m[i]-(m[s]*piv)\n",
    "\n",
    "def pmat(m):\n",
    "    for i in range(len(m)):\n",
    "        lin = \"\"\n",
    "        for j in range(len(m[0])):\n",
    "            lin = lin+\"\\t\"+str(round(m[i][j],2))\n",
    "        print(lin)\n",
    "    print(\"\")\n",
    "    \n",
    "def dameVecinos(red):\n",
    "    b1, b2 = to2D(red.reciprocalVectors[0]), to2D(red.reciprocalVectors[1])\n",
    "    d1 = long(m2V(b1,b2,(1,1)))\n",
    "    d2 = long(m2V(b1,b2,(-1,1)))\n",
    "    if d1<d2:\n",
    "        n = round(d2/d1)\n",
    "    else:\n",
    "        n = round(d1/d2)\n",
    "    vec = []\n",
    "    for i in range(-n,n+1):\n",
    "        for j in range(-n,n+1):\n",
    "            if (i,j)!=(0,0):\n",
    "                v = m2V(b1,b2,(i,j))\n",
    "                vec.append([v,long(v),(i,j)])\n",
    "    vec=sorted(vec, key=lambda op : op[1])\n",
    "    vecinos=[]\n",
    "    vC=[]\n",
    "    ind=0\n",
    "    while len(vecinos)<8 and ind<len(vec):\n",
    "        if califica(vec[ind][2],vC):\n",
    "            #vecinos.append([vec[ind][0],vec[ind][1],vec[ind][2]])\n",
    "            vecinos.append(vec[ind][0])\n",
    "            vC.append(vec[ind][2])\n",
    "        ind+=1\n",
    "    return vecinos\n",
    "\n",
    "def califica(pos, lista):\n",
    "    for i in range(len(lista)):\n",
    "        (px,py) = pos\n",
    "        (lx,ly) = lista[i]\n",
    "        if px!=0:\n",
    "            k=lx/px\n",
    "            if k>0:\n",
    "                if ly==k*py:\n",
    "                    print(\"({},{}) es tapado por ({},{})\".format(px,py,lx,ly))\n",
    "                    return False\n",
    "        elif py!=0:\n",
    "            k=ly/py\n",
    "            if k>0:\n",
    "                if lx==k*px:\n",
    "                    print(\"({},{}) es {} veces ({},{})\".format(px,py,k,lx,ly))\n",
    "                    return False\n",
    "    return True\n",
    "    \n",
    "def calcVerticesFBZ(red, show=False):\n",
    "    b1, b2 = to2D(red.reciprocalVectors[0]), to2D(red.reciprocalVectors[1])\n",
    "    pts = []\n",
    "    vecinos = dameVecinos(red)\n",
    "    '''[m2V(b1,b2,( 1, 0)),m2V(b1,b2,( 1, 1)),\n",
    "             m2V(b1,b2,( 0, 1)),m2V(b1,b2,(-1, 1)),\n",
    "             m2V(b1,b2,(-1, 0)),m2V(b1,b2,(-1,-1)),\n",
    "             m2V(b1,b2,( 0,-1)),m2V(b1,b2,( 1,-1))]'''\n",
    "    # Creamos el espacio para la matriz en que operaremos\n",
    "    nVar = len(vecinos)\n",
    "    v = np.array(vecinos)\n",
    "    eq = np.zeros((nVar,nVar+3))\n",
    "    #et = [\"V1\",\"V2\",\"V3\",\"V4\",\"V5\",\"V6\",\"V7\",\"V8\"] \n",
    "    xy = [10,10]\n",
    "    cruce = [-1,-1]\n",
    "    # Damos los valores correspondientes\n",
    "    for i in range(nVar):\n",
    "        eq[i][i] = 1\n",
    "        eq[i][nVar] = 2*v[i][0]\n",
    "        eq[i][nVar+1] = 2*v[i][1]\n",
    "        eq[i][nVar+2] = (v[i][0]**2) + (v[i][1]**2)\n",
    "    if show:\n",
    "        pmat(eq)\n",
    "    # Entra valor de X\n",
    "    ind = buscaEsquina(eq,nVar,xy[0],xy[1])\n",
    "    xy[0]=ind\n",
    "    cruce[0]=ind\n",
    "    opera(eq,nVar,ind)\n",
    "    # Entra valor de Y\n",
    "    ind = buscaEsquina(eq,nVar+1,xy[0],xy[1])\n",
    "    xy[1]=ind\n",
    "    cruce[1]=ind\n",
    "    opera(eq,nVar+1,ind)\n",
    "    p = (round(eq[xy[0]][nVar+2],nVar+2),round(eq[xy[1]][nVar+2],nVar+2))\n",
    "    pts.append(p)\n",
    "    if show:\n",
    "        pmat(eq)\n",
    "    cont=0\n",
    "    while True:\n",
    "        cont+=1\n",
    "        e = cruce[0]\n",
    "        s = buscaEsquina(eq,e,xy[0],xy[1])\n",
    "        opera(eq,e,s)\n",
    "        if show:\n",
    "            pmat(eq)\n",
    "        cruce[0] = cruce[1]\n",
    "        cruce[1] = s\n",
    "        p2 = (round(eq[xy[0]][nVar+2],nVar+2),round(eq[xy[1]][nVar+2],nVar+1))\n",
    "        if p2!=p:\n",
    "            if p2==pts[0]:\n",
    "                break\n",
    "            p=p2\n",
    "            pts.append(p)\n",
    "        if cont>10:\n",
    "            break\n",
    "    \n",
    "    return pts, eq\n"
   ]
  },
  {
   "cell_type": "code",
   "execution_count": null,
   "id": "55c20236",
   "metadata": {},
   "outputs": [],
   "source": [
    "dameVecinos(r2)"
   ]
  },
  {
   "cell_type": "code",
   "execution_count": null,
   "id": "82180db6",
   "metadata": {},
   "outputs": [],
   "source": [
    "\n",
    "from matplotlib.patches import Polygon"
   ]
  },
  {
   "cell_type": "code",
   "execution_count": null,
   "id": "695d9c10",
   "metadata": {
    "scrolled": false
   },
   "outputs": [],
   "source": [
    "a, eq=calcVerticesFBZ(r3,show=False)"
   ]
  },
  {
   "cell_type": "code",
   "execution_count": null,
   "id": "2e9aecda",
   "metadata": {},
   "outputs": [],
   "source": [
    "a2,eq=calcVerticesFBZ(r1)\n",
    "a3,eq=calcVerticesFBZ(r2)"
   ]
  },
  {
   "cell_type": "code",
   "execution_count": null,
   "id": "f94177dc",
   "metadata": {},
   "outputs": [],
   "source": [
    "t=10\n",
    "xs=[]\n",
    "ys=[]\n",
    "enls=[]\n",
    "sra,srb=to2D(r3.reciprocalVectors[0]),to2D(r3.reciprocalVectors[1])\n",
    "print(sra,srb)\n",
    "for i in range(-10,11):\n",
    "    for j in range(-10,11):\n",
    "        (px,py) = m2V(sra,srb,(i,j))\n",
    "        xs.append(px)\n",
    "        ys.append(py)\n",
    "        o=sumaV((px,py),a[len(a)-1])\n",
    "        for p in a:\n",
    "            f=sumaV((px,py),p)\n",
    "            enls.append([o,f])\n",
    "            o=f\n",
    "xs=np.array(xs)\n",
    "ys=np.array(ys)\n",
    "le = mc.LineCollection(np.array(enls), colors='silver', linewidths=(t/10))"
   ]
  },
  {
   "cell_type": "code",
   "execution_count": null,
   "id": "63f2de3d",
   "metadata": {},
   "outputs": [],
   "source": [
    "ax = plt.subplot()\n",
    "hexa1=Polygon(a,alpha=0.3, color = 'red', label = r3.name)\n",
    "ax.add_patch(hexa1)\n",
    "hexa2=Polygon(a2,alpha=0.3, color = 'blue', label = r1.name)\n",
    "ax.add_patch(hexa2)\n",
    "hexa3=Polygon(a3,alpha=0.3, color = 'green', label = r2.name)\n",
    "ax.add_patch(hexa3)\n",
    "ax.add_collection(le)\n",
    "ax.scatter(xs,ys, color='black',s=t)\n",
    "ax.set(xlim=(-1.0,1.0), ylim=(-1.0,1.0))\n",
    "ax.legend(loc = 'upper right')\n",
    "plt.show()"
   ]
  },
  {
   "cell_type": "code",
   "execution_count": null,
   "id": "99385478",
   "metadata": {},
   "outputs": [],
   "source": [
    "r2.showXY(9,9)"
   ]
  },
  {
   "cell_type": "code",
   "execution_count": null,
   "id": "2f43aab5",
   "metadata": {},
   "outputs": [],
   "source": [
    "importa?"
   ]
  },
  {
   "cell_type": "code",
   "execution_count": null,
   "id": "f5a29df1",
   "metadata": {},
   "outputs": [],
   "source": [
    "atomos=[Atomo((0.333333343,0.666666687),posZ=0.500000000,color='Red',sig='Cd'),\n",
    "        Atomo((0.666666627,0.333333313),posZ=0.250000000,color='Red',sig='Cd'),\n",
    "        Atomo((0.333333343,0.666666687),posZ=0.1899999975,color='gold',sig='S'),\n",
    "        Atomo((0.666666627,0.333333313),posZ=0.4399999975,color='gold',sig='S')]\n",
    "r1=Red((4.2100000381,0.0000000000),(-2.1050000191,3.6459669830),atms=atomos, detachment=13.6800003052 ,name='CdS')\n",
    "atmsG=[Atomo((0.000000000,0.000000000)),Atomo((0.333333343,0.666666687))]\n",
    "r2=Red((2.4410462379,0.0000000000),(-1.2205231190,2.1140080539),atms=atmsG,name='Grafeno').mRot(30)"
   ]
  },
  {
   "cell_type": "raw",
   "id": "bab085d7",
   "metadata": {},
   "source": [
    "r2"
   ]
  },
  {
   "cell_type": "code",
   "execution_count": null,
   "id": "64988af6",
   "metadata": {},
   "outputs": [],
   "source": [
    "r2.showme()"
   ]
  },
  {
   "cell_type": "code",
   "execution_count": null,
   "id": "93b025e6",
   "metadata": {},
   "outputs": [],
   "source": [
    "def GeSeA():\n",
    "    ats=[Atomo((0.75,0.577516675),posZ=0.189562783,color='blue',sig='Ge'),\n",
    "         Atomo((0.25,0.077767663),posZ=0.073721662,color='blue',sig='Ge'),\n",
    "         Atomo((0.25,0.050640754),posZ=0.195155814,color='green',sig='Se'),\n",
    "         Atomo((0.75,0.550593972),posZ=0.068081208,color='green',sig='Se')]\n",
    "    a = (4.0130319595,0.0000000000)\n",
    "    b = (0.0000000000,4.0482119840)\n",
    "    gese = Red(a,b,atms=ats,name='GeSe-Alfa')\n",
    "    gese.detachment = 21.1464214325\n",
    "    return gese\n",
    "\n",
    "def GeSeB():\n",
    "    ats=[Atomo((0.75,0.367782116),posZ=0.160547823,color='purple',sig='Ge')]\n",
    "    '''ats=[Atomo((0.75,0.367782116),posZ=0.160547823,color='purple',sig='Ge'),\n",
    "         Atomo((0.25,0.868400931),posZ=0.063394181,color='purple',sig='Ge'),\n",
    "         Atomo((0.75,0.846623361),posZ=0.160837263,color='green',sig='Se'),\n",
    "         Atomo((0.25,0.346943438),posZ=0.063084550,color='green',sig='Se')]'''\n",
    "    a = (3.8261001110,0.0000000000)\n",
    "    b = (0.0000000000,5.8088998795)\n",
    "    gese = Red(a,b,atms=ats,name='GeSe-Alfa')\n",
    "    gese.detachment = 18.0892009735\n",
    "    return gese\n"
   ]
  },
  {
   "cell_type": "code",
   "execution_count": null,
   "id": "e7a7727f",
   "metadata": {},
   "outputs": [],
   "source": [
    "r1=grafeno()\n",
    "r2=GeSeB().mRot(22.49)"
   ]
  },
  {
   "cell_type": "code",
   "execution_count": null,
   "id": "fdeea276",
   "metadata": {},
   "outputs": [],
   "source": [
    "dameVecinos(r2)"
   ]
  },
  {
   "cell_type": "code",
   "execution_count": null,
   "id": "eafba08f",
   "metadata": {},
   "outputs": [],
   "source": [
    "(r2.reciprocalVectors)"
   ]
  },
  {
   "cell_type": "code",
   "execution_count": null,
   "id": "25c0deb9",
   "metadata": {},
   "outputs": [],
   "source": [
    "r2.showme()"
   ]
  },
  {
   "cell_type": "code",
   "execution_count": null,
   "id": "88b9d91f",
   "metadata": {},
   "outputs": [],
   "source": [
    "r1 = grafeno3().mRot(30)\n",
    "r2 = importa('CdS')\n",
    "r2.name='CdS'"
   ]
  },
  {
   "cell_type": "code",
   "execution_count": null,
   "id": "0302bd90",
   "metadata": {},
   "outputs": [],
   "source": [
    "p1=m2V(r1.a,r1.b,(0,-12))\n",
    "p2=m2V(r1.a,r1.b,(12,12))\n",
    "r3=superMesh(p1,p2,[r1,r2])\n",
    "r3.showXY(2,2)"
   ]
  },
  {
   "cell_type": "code",
   "execution_count": null,
   "id": "c0e3efef",
   "metadata": {},
   "outputs": [],
   "source": [
    "r3.printReciprocalSpace()"
   ]
  },
  {
   "cell_type": "code",
   "execution_count": null,
   "id": "f5fff1ab",
   "metadata": {},
   "outputs": [],
   "source": [
    "r2.showme()"
   ]
  },
  {
   "cell_type": "code",
   "execution_count": null,
   "id": "4f841da4",
   "metadata": {},
   "outputs": [],
   "source": [
    "reciprocalBackgroundMesh?"
   ]
  },
  {
   "cell_type": "code",
   "execution_count": null,
   "id": "f077d13c",
   "metadata": {},
   "outputs": [],
   "source": []
  }
 ],
 "metadata": {
  "kernelspec": {
   "display_name": "Python 3 (ipykernel)",
   "language": "python",
   "name": "python3"
  },
  "language_info": {
   "codemirror_mode": {
    "name": "ipython",
    "version": 3
   },
   "file_extension": ".py",
   "mimetype": "text/x-python",
   "name": "python",
   "nbconvert_exporter": "python",
   "pygments_lexer": "ipython3",
   "version": "3.10.6"
  }
 },
 "nbformat": 4,
 "nbformat_minor": 5
}
