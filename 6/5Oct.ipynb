{
 "cells": [
  {
   "cell_type": "code",
   "execution_count": 1,
   "id": "161b0bc0",
   "metadata": {},
   "outputs": [],
   "source": [
    "from Clases.Codigo import *"
   ]
  },
  {
   "cell_type": "code",
   "execution_count": null,
   "id": "c3ccd0bd",
   "metadata": {},
   "outputs": [],
   "source": [
    "def buscaMN(vectU,vectV, th, rango=15, limDelta=0.1, show=True):\n",
    "    lim = limDelta\n",
    "    f1, f2 = 0, 0\n",
    "    res = [[],[]]\n",
    "    rmin = [0,0,0,0,0.0]\n",
    "    rmin2 = [0,0,0,0,0.0]\n",
    "    ang = math.radians(th)\n",
    "    cos = math.cos(ang)\n",
    "    sen = math.sin(ang)\n",
    "    ru, rv = rota(vectU,th), rota(vectV,th)\n",
    "    (u1,u2) = vectU\n",
    "    (v1,v2) = vectV\n",
    "    ax1 = (u2*v1)-(u1*v2)\n",
    "    ax2 = (u1*v1)+(u2*v2)\n",
    "    ax3 = (v1**2)+(v2**2)\n",
    "    ax4 = (u1**2)+(u2**2)\n",
    "    delta=0.0\n",
    "    for k in range(1,(2*rango)+1):\n",
    "        for i in range(k+1):\n",
    "            j = k-i\n",
    "            if(i<(rango+1) and j<(rango+1)):\n",
    "                # Buscando en a+\n",
    "                a,b = i,-j\n",
    "                c = (a*(ax1*cos-ax2*sen)/ax1)-(b*(ax3*sen)/ax1)\n",
    "                d = (b*(ax1*cos+ax2*sen)/ax1)+(a*(ax4*sen)/ax1)\n",
    "                r1 = sumaV(multV(a,vectU),multV(b,vectV))\n",
    "                r2 = sumaV(multV(round(c),ru),multV(round(d),rv))\n",
    "                delta = dist((0,0),r1)/dist((0,0),r2)\n",
    "                err = dist(r1,r2)*(abs(delta))\n",
    "                if (err<limDelta):\n",
    "                    if(abs(1-delta)<0.03):\n",
    "                        res[0].append([[a,b],[round(c),round(d)],delta])\n",
    "                        print(\">({},{})-({},{}): Delta={}%\".format(a,b,round(c),round(d),delta*100),\":\",dist(r1,r2))\n",
    "                # Buscando en a-\n",
    "                if j!=0:\n",
    "                    a,b = i,j\n",
    "                    c = (a*(ax1*cos-ax2*sen)/ax1)-(b*(ax3*sen)/ax1)\n",
    "                    d = (b*(ax1*cos+ax2*sen)/ax1)+(a*(ax4*sen)/ax1)\n",
    "                    r1 = sumaV(multV(a,vectU),multV(b,vectV))\n",
    "                    r2 = sumaV(multV(round(c),ru),multV(round(d),rv))\n",
    "                    delta = dist((0,0),r1)/dist((0,0),r2)\n",
    "                    err = dist(r1,r2)*(abs(delta))\n",
    "                    if (err<limDelta):\n",
    "                        if(abs(1-delta)<0.03):\n",
    "                            res[1].append([[a,b],[round(c),round(d)],delta])\n",
    "                            print(\">>({},{})-({},{}): Delta={}%\".format(a,b,round(c),round(d),delta*100,\":\",dist(r1,r2)))\n",
    "    return res"
   ]
  },
  {
   "cell_type": "code",
   "execution_count": null,
   "id": "0ff382e8",
   "metadata": {},
   "outputs": [],
   "source": [
    "print(\"U={},V={}\\n\".format(u,v))\n",
    "print(\"(a,b),(p,q) : Áng\")\n",
    "th=cAng(m2V(u,v,(1,-1)),m2V(u,v,(1,1)))\n",
    "print(\"(x,x),(x,-x) : {:.4f}º\".format(th))\n",
    "th=cAng(m2V(u,v,(-1,1)),m2V(u,v,(1,1)))\n",
    "print(\"(x,x),(-x,x) : {:.4f}º\".format(th))\n",
    "for a in range(1,6):\n",
    "    for b in range(1,6):\n",
    "        if a!=b:\n",
    "            th=cAng(m2V(u,v,(a,-b)),m2V(u,v,(a,b)))\n",
    "            print(\"({},{}),({},{}) : {:.4f}º\".format(a,b,a,-b,th))\n",
    "            th=360-(cAng(m2V(u,v,(-a,b)),m2V(u,v,(a,b))))\n",
    "            print(\"({},{}),({},{}) : {:.4f}º\".format(a,b,-a,b,th))"
   ]
  },
  {
   "cell_type": "code",
   "execution_count": null,
   "id": "e9637e1d",
   "metadata": {},
   "outputs": [],
   "source": [
    "print(\"U={},V={}\\n\".format(u,v))\n",
    "print(\"(a,b),(p,q) : Áng\")\n",
    "th=360-cAng(m2V(u,v,(1,-1)),m2V(u,v,(1,1)))\n",
    "print(\"(x,x),(x,-x) : {:.4f}º\".format(th))\n",
    "th=cAng(m2V(u,v,(-1,1)),m2V(u,v,(1,1)))\n",
    "print(\"(x,x),(-x,x) : {:.4f}º\".format(th))\n",
    "for a in range(1,6):\n",
    "    for nb in range(1,6):\n",
    "        b=-nb\n",
    "        if a!=b:\n",
    "            th=360-(cAng(m2V(u,v,(a,-b)),m2V(u,v,(a,b))))\n",
    "            print(\"({},{}),({},{}) : {:.4f}º\".format(a,b,a,-b,th))\n",
    "            th=(cAng(m2V(u,v,(-a,b)),m2V(u,v,(a,b))))\n",
    "            print(\"({},{}),({},{}) : {:.4f}º\".format(a,b,-a,b,th))"
   ]
  },
  {
   "cell_type": "code",
   "execution_count": null,
   "id": "ae5313ff",
   "metadata": {},
   "outputs": [],
   "source": [
    "m1=rectMesh(4.43,3.27)\n",
    "p1,p2,p3 = (0,0),(0,1),(0.3,0.5)\n",
    "p4,p5,p6 = (0.8,0),(0.8,1),(0.5,0.5)\n",
    "ats = [Atomo(p1,sig='P'),Atomo(p2,sig='P'),Atomo(p3,sig='P'),Atomo(p4,sig='P',posZ=0.3),Atomo(p5,sig='P',posZ=0.3),Atomo(p6,sig='P',posZ=0.3)]\n",
    "m1.atms[0] = ats\n",
    "theta = 180"
   ]
  },
  {
   "cell_type": "code",
   "execution_count": null,
   "id": "1581906b",
   "metadata": {},
   "outputs": [],
   "source": [
    "ats = [Atomo(p1,sig='P',color='blue'),Atomo(p2,sig='P',color='blue'),Atomo(p3,sig='P',color='blue'),Atomo(p4,sig='P',posZ=0.3,color='blue'),Atomo(p5,sig='P',posZ=0.3,color='blue'),Atomo(p6,sig='P',posZ=0.3,color='blue')]\n",
    "m2=rectMesh(4.43,3.27)\n",
    "m2.atms[0] = ats\n",
    "m2=m2.mRot(theta)\n",
    "u,v=m1.u, m1.v\n",
    "ru,rv=m2.u, m2.v"
   ]
  },
  {
   "cell_type": "code",
   "execution_count": null,
   "id": "4f97748c",
   "metadata": {},
   "outputs": [],
   "source": [
    "r=buscaMN(u,v, theta,limDelta=0.5)\n",
    "r"
   ]
  },
  {
   "cell_type": "code",
   "execution_count": null,
   "id": "663e8b92",
   "metadata": {},
   "outputs": [],
   "source": [
    "tmin=200\n",
    "angR=0.0\n",
    "resultado=\"\"\n",
    "P=(1,0,0,1)\n",
    "for i in range(len(r[0])):\n",
    "    for j in range(len(r[1])):\n",
    "        [m,p] = r[0][i][0]\n",
    "        [n,q] = r[1][j][0]\n",
    "        tam = (m*q)-(n*p)\n",
    "        ang = cAng(m2V(u,v,(m,p)),m2V(u,v,(n,q)))\n",
    "        print((m,p),(n,q),\"det=\",tam,\"Ang={}°\".format(ang))\n",
    "        if tam==tmin:\n",
    "            if abs(ang-90)<abs(angR-90):\n",
    "                resultado=\"\\nMejor P para Theta={}:\\n|{}\\t{}|\\n|{}\\t{}|\".format(theta,m,n,p,q)\n",
    "                P = (m,n,p,q)\n",
    "                angR=ang\n",
    "        if tam<tmin:\n",
    "            resultado=\"\\nMejor P para Theta={}:\\n|{}\\t{}|\\n|{}\\t{}|\".format(theta,m,n,p,q)\n",
    "            P = (m,n,p,q)\n",
    "            tmin=tam\n",
    "print(resultado)"
   ]
  },
  {
   "cell_type": "code",
   "execution_count": null,
   "id": "d00362b9",
   "metadata": {},
   "outputs": [],
   "source": [
    "su,sv=v1,v2=transfVs(u,v,P)\n",
    "sCell=superMesh(multV(1,u),multV(1,v),[m1,m2])\n",
    "#sCell.showNM(10,10,name='c1c2')\n",
    "sCell.exporta(name='c1c2')"
   ]
  },
  {
   "cell_type": "code",
   "execution_count": null,
   "id": "0a84dd97",
   "metadata": {},
   "outputs": [],
   "source": [
    "m1.showNM(1,1)"
   ]
  },
  {
   "cell_type": "code",
   "execution_count": null,
   "id": "061510a8",
   "metadata": {},
   "outputs": [],
   "source": [
    "su,sv=v1,v2=transfVs(u,v,P)\n",
    "sCell=superMesh(su,sv,[m1,m2])\n",
    "sCell.exporta(name='phosphorene({}º)'.format(theta))"
   ]
  },
  {
   "cell_type": "code",
   "execution_count": null,
   "id": "71fe3411",
   "metadata": {},
   "outputs": [],
   "source": [
    "'''\n",
    "Theta=16.7958:\n",
    "|3\t2|\n",
    "|-4\t5|\n",
    "\n",
    "Theta=16.7958:\n",
    "|3\t5|\n",
    "|-4\t1|\n",
    "\n",
    "Theta=40.5156:\n",
    "|  1\t2|\n",
    "|-12\t1|\n",
    "\n",
    "Theta=72.8657:\n",
    "|1\t-2|\n",
    "|1\t15|\n",
    "\n",
    "Theta=27.646:\n",
    "|3\t-2|\n",
    "|1\t11|\n",
    "\n",
    "Theta=68.2251:\n",
    "|1\t15|\n",
    "|-2\t 5|\n",
    "\n",
    "Theta=287.1343:\n",
    "|1\t 2|\n",
    "|-1\t15|\n",
    "\n",
    "Theta=111.7749:\n",
    "| 12\t1|\n",
    "|-11\t2|\n",
    "\n",
    "Theta=47.7761:\n",
    "|3\t5|\n",
    "|0\t3|\n",
    "'''"
   ]
  },
  {
   "cell_type": "code",
   "execution_count": null,
   "id": "4e251b1f",
   "metadata": {},
   "outputs": [],
   "source": [
    "cAng(m2V(u,v,(1,2)),m2V(u,v,(-12,11)))"
   ]
  },
  {
   "cell_type": "code",
   "execution_count": null,
   "id": "e68cb31a",
   "metadata": {},
   "outputs": [],
   "source": [
    "m1=rectMesh(3.3061099052,4.552418232)\n",
    "p1,p2=(0.000000000,0.913483083),(0.500000000,0.579813302)\n",
    "p3,p4=(0.000000000,0.079836130),(0.500000000,0.413437814)\n",
    "ats = [Atomo(p1,sig='P',posZ=0.266835123),Atomo(p2,sig='P',posZ=0.266945183),Atomo(p3,sig='P',posZ=0.181006327),Atomo(p4,sig='P',posZ=0.181094214)]\n",
    "m1.atms[0] = ats\n",
    "m1.showNM(1,1)\n",
    "m1.exporta(name='Phospho')"
   ]
  },
  {
   "cell_type": "code",
   "execution_count": 2,
   "id": "60d15fef",
   "metadata": {},
   "outputs": [
    {
     "ename": "NameError",
     "evalue": "name 'blackPh' is not defined",
     "output_type": "error",
     "traceback": [
      "\u001b[1;31m---------------------------------------------------------------------------\u001b[0m",
      "\u001b[1;31mNameError\u001b[0m                                 Traceback (most recent call last)",
      "Input \u001b[1;32mIn [2]\u001b[0m, in \u001b[0;36m<cell line: 1>\u001b[1;34m()\u001b[0m\n\u001b[1;32m----> 1\u001b[0m m1\u001b[38;5;241m=\u001b[39m\u001b[43mblackPh\u001b[49m()\n",
      "\u001b[1;31mNameError\u001b[0m: name 'blackPh' is not defined"
     ]
    }
   ],
   "source": [
    "m1=blackPh()"
   ]
  },
  {
   "cell_type": "code",
   "execution_count": null,
   "id": "d032e3f7",
   "metadata": {},
   "outputs": [],
   "source": []
  }
 ],
 "metadata": {
  "kernelspec": {
   "display_name": "Python 3 (ipykernel)",
   "language": "python",
   "name": "python3"
  },
  "language_info": {
   "codemirror_mode": {
    "name": "ipython",
    "version": 3
   },
   "file_extension": ".py",
   "mimetype": "text/x-python",
   "name": "python",
   "nbconvert_exporter": "python",
   "pygments_lexer": "ipython3",
   "version": "3.10.6"
  }
 },
 "nbformat": 4,
 "nbformat_minor": 5
}
