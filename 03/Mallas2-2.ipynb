{
 "cells": [
  {
   "cell_type": "code",
   "execution_count": 1,
   "id": "fe093f8e",
   "metadata": {},
   "outputs": [],
   "source": [
    "import matplotlib.pyplot as plt\n",
    "import numpy as np\n",
    "from matplotlib import collections  as mc\n",
    "import math"
   ]
  },
  {
   "cell_type": "code",
   "execution_count": 2,
   "id": "5e659a62",
   "metadata": {},
   "outputs": [],
   "source": [
    "#Funciones Auxiliares\n",
    "def sumaV(x,y):\n",
    "    '''Suma 2 vectores dados'''\n",
    "    a,b=x\n",
    "    c,d=y\n",
    "    return (a+c,b+d)\n",
    "def multV(n,a):\n",
    "    '''Multiplica un vector a por una constante n'''\n",
    "    a1,a2 = a\n",
    "    return (a1*n,a2*n)\n",
    "def rota(vect, theta):\n",
    "    '''Rota un vector en un ángulo en Theta grados'''\n",
    "    ang = float((theta/180.0)*math.pi)\n",
    "    (x,y) = vect\n",
    "    vr = ((math.cos(ang)*x)-(math.sin(ang)*y), (math.sin(ang)*x)+(math.cos(ang)*y))\n",
    "    return vr\n",
    "def dist(a, b):\n",
    "    a1, a2 = a\n",
    "    b1, b2 = b\n",
    "    return math.sqrt(((b1-a1)**2)+((b2-a2)**2))"
   ]
  },
  {
   "cell_type": "code",
   "execution_count": 3,
   "id": "4f59d021",
   "metadata": {},
   "outputs": [],
   "source": [
    "class Atomo:\n",
    "    '''Clase que define un atomo en el sistema'''\n",
    "    def __init__(self, pos, color='black'):\n",
    "        '''Inicializa el objeto Atomo usando como entradas su posición (x,y) pos y su color caracteristico color'''\n",
    "        self.pos = pos\n",
    "        self.color = color\n",
    "        self.enlaces = []\n",
    "\n",
    "    def printAtomo(self, r, axs):\n",
    "        '''Imprime un Atomo en un Patch en el axs señalado'''\n",
    "        axs.add_patch(plt.Circle((self.pos), r , color=self.color))\n",
    "\n",
    "    def setEnlace(self, atm):\n",
    "        '''Enlaza 2 Atomos'''\n",
    "        self.enlaces.append(atm)\n",
    "        atm.enlaces.append(self)\n",
    "        return 1\n"
   ]
  },
  {
   "cell_type": "code",
   "execution_count": 4,
   "id": "c07d5baf",
   "metadata": {},
   "outputs": [],
   "source": [
    "class Malla:\n",
    "    '''Define una malla bidimencional formada por 2 vectores dados\n",
    "Variables de Malla:\n",
    "   u -> vector constructor u.\n",
    "   v -> vector constructor v.\n",
    "   theta -> ángulo de rotación de la malla.\n",
    "   red -> lista con las pociciones de los puntos que caracterizan a cada celda de la malla.\n",
    "   atms -> lista de todos los átomos en la malla\n",
    "   enls -> lista de los enlaces entre átomos en la malla\n",
    "   aPos -> lista auxiliar con las posiciones de todos los átomos.\n",
    "   aColor -> lista auxiliar con los colores de todos los átomos.\n",
    "'''\n",
    "    def __init__(self, u, v, theta = 0.0):\n",
    "        if theta==0.0:\n",
    "            self.u = u\n",
    "            self.v = v\n",
    "        else:\n",
    "            self.u = rota(u,theta)\n",
    "            self.v = rota(v,theta)\n",
    "        self.theta = theta\n",
    "        self.red = []\n",
    "        self.atms = []\n",
    "        self.enls = []\n",
    "        self.aPos, self.aCol = [], []\n",
    "\n",
    "    def printWeb(self, axs):\n",
    "        '''Imprime la red de simetrias de la malla'''\n",
    "        if self.red == []: \n",
    "            print(\"Aun no se ha creado una red, use el método creaNM(n,m)\")\n",
    "            return\n",
    "        lis = np.array(self.red)\n",
    "        xs, ys = lis[:,0], lis[:,1]        \n",
    "        mx = np.amax(xs)\n",
    "        my = np.amax(ys)\n",
    "        axs.set(xlim=(-mx,mx), ylim = (-my,my))\n",
    "        '''plt.scatter(xs, ys,s=10)'''\n",
    "        ln = []\n",
    "        for p in self.red:\n",
    "            ln.append([p,sumaV(p,self.u)])\n",
    "            ln.append([p,sumaV(p,self.v)])\n",
    "        lc = mc.LineCollection(np.array(ln), colors='darkgrey', linewidths=(0.5))\n",
    "        axs.add_collection(lc)\n",
    "        return ln\n",
    "    \n",
    "    def creaNM(self, n, m):\n",
    "        '''Crea una red que se repite n veces en el vector u y m en el vector v en ambas direcciones'''\n",
    "        red = []\n",
    "        for i in range((2*n)+1):\n",
    "            a = i-n\n",
    "            for j in range((2*m)+1):\n",
    "                b = j-m\n",
    "                p = sumaV((multV(a,self.u)), (multV(b,self.v)))\n",
    "                self.red.append(p)\n",
    "        return self.red\n",
    "\n",
    "    def creaAtomos(self, nAtms, colors=['blue','blue']):\n",
    "        '''Crea la lista de los Átomos que están en la malla. La variable nAtms indica el numero de atomos en cada celda de la malla.\n",
    "Si la variable nAtms es 1 entonces se forma una estructura de cuadrada.\n",
    "Si la variable nAtms es 2 entonces se forma una estructura de exagonal.'''\n",
    "        if nAtms == 1:#Crea una red de atomos con patrones cuadrados\n",
    "            u = self.u#multV((1/2),self.u)\n",
    "            v = self.v#multV((1/2),self.v)\n",
    "            for p in self.red:\n",
    "                p1 = p\n",
    "                self.atms.append(Atomo(p1,colors[0]))\n",
    "                self.aPos.append(p1)\n",
    "                self.aCol.append(colors[0])\n",
    "                p2 = sumaV(p1, self.u)\n",
    "                p3 = sumaV(p1, self.v)\n",
    "                self.enls.append([p1,p2])\n",
    "                self.enls.append([p1,p3])\n",
    "            return 1\n",
    "        if nAtms == 2:#Crea una red de atomos con patrones exagonales \n",
    "            u = multV((1/3),self.u)\n",
    "            v = multV((1/3),self.v)\n",
    "            for p in self.red:\n",
    "                p1 = sumaV(p,sumaV(u,v))\n",
    "                self.atms.append(Atomo(p,colors[0]))\n",
    "                self.aPos.append(p)\n",
    "                self.aCol.append(colors[0])\n",
    "                self.atms.append(Atomo(p1,colors[1]))\n",
    "                self.aPos.append(p1)\n",
    "                self.aCol.append(colors[1])\n",
    "                p3 = sumaV(p,self.u)\n",
    "                p4 = sumaV(p,self.v)\n",
    "                self.enls.append([p,p1])\n",
    "                self.enls.append([p1,p3])\n",
    "                self.enls.append([p1,p4])\n",
    "            return 1\n",
    "        self.atms, self.enls = [], []\n",
    "        self.aPos, self.aCol = [], []\n",
    "        return 0\n",
    "    \n",
    "    def crea(self, n, m, nAtms, colors=['blue','blue']):\n",
    "        '''Crea una red n*m y sus atomos'''\n",
    "        self.creaNM(n,m)\n",
    "        self.creaAtomos(nAtms, colors)\n"
   ]
  },
  {
   "cell_type": "code",
   "execution_count": 5,
   "id": "65cb91b5",
   "metadata": {},
   "outputs": [],
   "source": [
    "def muestra(mallas, t = 0.5, name = '',mm = None, ax=None):\n",
    "    '''Impime en pantalla la lista de Mallas dadas, puede señalarse un grosor de dibujo t y un nombre name\n",
    "De tener nombre se creará una imagén con dicho nombre'''\n",
    "    if(ax is None):\n",
    "        fig, axs = plt.subplots()\n",
    "    else: axs = ax\n",
    "    atms, enls, col = [], [], []\n",
    "    i = 0\n",
    "    for m in mallas:\n",
    "        i+=1\n",
    "        print(\"Malla\",i,\":\",len(m.aPos),\"atomos,\",len(m.enls),\"enlaces\")\n",
    "        atms = atms+m.aPos\n",
    "        col = col+m.aCol\n",
    "        enls = enls+m.enls\n",
    "    print(\"\\tTotal:\",len(atms),\"atomos,\",len(enls),\"enlaces\")\n",
    "    lis = np.array(atms)\n",
    "    xs, ys = lis[:,0], lis[:,1]\n",
    "    axs.scatter(xs,ys, color=col,s=t)\n",
    "    lc = mc.LineCollection(np.array(enls), colors='black', linewidths=(t/10))\n",
    "    axs.add_collection(lc)\n",
    "    if (mm is not None):\n",
    "        mm.printWeb(axs)\n",
    "    #axs.axes.xaxis.set_visible(False)\n",
    "    #axs.axes.yaxis.set_visible(False)\n",
    "    axs.autoscale_view(tight=False)\n",
    "    if name!='':\n",
    "        plt.savefig(name,dpi=900, bbox_inches='tight')\n",
    "    plt.show()\n",
    "    axs.cla()\n",
    "    plt.clf()\n",
    "    plt.close()\n",
    "    return 1"
   ]
  },
  {
   "cell_type": "code",
   "execution_count": 6,
   "id": "f11f7f85",
   "metadata": {},
   "outputs": [],
   "source": [
    "def busca(vectU,vectV,factor,rango,eps):\n",
    "    res = []\n",
    "    (u1,u2) = vectU\n",
    "    (v1,v2) = vectV\n",
    "    ax1 = (u2*v1)-(u1*v2)\n",
    "    ax2 = (u1*v1)+(u2*v2)\n",
    "    ax3 = (v1**2)+(v2**2)\n",
    "    ax4 = (u1**2)+(u2**2)\n",
    "    for i in range(60*factor):\n",
    "        th = (i+(0*factor))/factor\n",
    "        ang = math.radians(th)\n",
    "        cos = math.cos(ang)\n",
    "        sen = math.sin(ang)\n",
    "        ru, rv = rota(vectU,th), rota(vectV,th)\n",
    "        for a in range(rango):\n",
    "            for b in range(rango):\n",
    "                if (th%60!=0):\n",
    "                    if (a!=0)and(b!=0):\n",
    "                        c = (a*(ax1*cos-ax2*sen)/ax1)-(b*(ax3*sen)/ax1)\n",
    "                        d = (b*(ax1*cos+ax2*sen)/ax1)+(a*(ax4*sen)/ax1)\n",
    "                        r1 = sumaV(multV(a,vectU),multV(b,vectV))\n",
    "                        r2 = sumaV(multV(round(c),ru),multV(round(d),rv))\n",
    "                        #(e1,e2) = sumaV(r1,multV(-1,r2))\n",
    "                        #err = max(abs(e1),abs(e2))\n",
    "                        err = dist(r1,r2)\n",
    "                        if err<eps:\n",
    "                            res.append([a,b,round(c),round(d),round(th%60,3),err])\n",
    "                            print(\"(a,b)=\",(a,b),\" (c,d)=\",(round(c),round(d)),\"Theta=\",round(th%60,3),\"err:\",err)\n",
    "    return res\n",
    "\n",
    "                            \n",
    "def buscaTh(vectU,vectV, a, b, step=2, eps=0.01, show=True):\n",
    "    res = []\n",
    "    rmin = None\n",
    "    epsm = eps\n",
    "    factor = 10**step\n",
    "    (u1,u2) = vectU\n",
    "    (v1,v2) = vectV\n",
    "    ax1 = (u2*v1)-(u1*v2)\n",
    "    ax2 = (u1*v1)+(u2*v2)\n",
    "    ax3 = (v1**2)+(v2**2)\n",
    "    ax4 = (u1**2)+(u2**2)\n",
    "    for i in range(180*factor):\n",
    "        th = float((i/factor)-60)\n",
    "        ang = math.radians(th)\n",
    "        cos = math.cos(ang)\n",
    "        sen = math.sin(ang)\n",
    "        ru, rv = rota(vectU,th), rota(vectV,th)\n",
    "        if(th%60!=0):\n",
    "            if (a!=0)and(b!=0):\n",
    "                c = (a*(ax1*cos-ax2*sen)/ax1)-(b*(ax3*sen)/ax1)\n",
    "                d = (b*(ax1*cos+ax2*sen)/ax1)+(a*(ax4*sen)/ax1)\n",
    "                r1 = sumaV(multV(a,vectU),multV(b,vectV))\n",
    "                r2 = sumaV(multV(round(c),ru),multV(round(d),rv))\n",
    "                err = dist(r1,r2)\n",
    "                if err<eps:\n",
    "                    res.append([a,b,round(c),round(d),round(th,step),err])\n",
    "                    if err<epsm:\n",
    "                        print(\"nuevo mejor=\",th)\n",
    "                        epsm = err\n",
    "                        rmin = [a,b,round(c),round(d),round(th,step),err]\n",
    "                    if show:\n",
    "                        print(\"(a,b)=\",(a,b),\" (c,d)=\",(round(c),round(d)),\"Theta=\",round(th,step),\"err:\",err)\n",
    "    return res, rmin\n",
    "                            \n",
    "def buscaMN(vectU,vectV, th, rang=15, eps=0.01, show=True):\n",
    "    epsm = eps\n",
    "    f1, f2 = 0, 0\n",
    "    res = []\n",
    "    rmin = [0,0,0,0,0.0,0.0,(0.0,0.0)]\n",
    "    rmin2 = [0,0,0,0,0.0,0.0,(0.0,0.0)]\n",
    "    ang = math.radians(th)\n",
    "    cos = math.cos(ang)\n",
    "    sen = math.sin(ang)\n",
    "    ru, rv = rota(vectU,th), rota(vectV,th)\n",
    "    (u1,u2) = vectU\n",
    "    (v1,v2) = vectV\n",
    "    ax1 = (u2*v1)-(u1*v2)\n",
    "    ax2 = (u1*v1)+(u2*v2)\n",
    "    ax3 = (v1**2)+(v2**2)\n",
    "    ax4 = (u1**2)+(u2**2)\n",
    "    print(\"Busqueda en a pos\")\n",
    "    for a in range(rang):\n",
    "        for b in range(rang):\n",
    "            if (a!=0)and(b!=0):\n",
    "                c = (a*(ax1*cos-ax2*sen)/ax1)-(b*(ax3*sen)/ax1)\n",
    "                d = (b*(ax1*cos+ax2*sen)/ax1)+(a*(ax4*sen)/ax1)\n",
    "                r1 = sumaV(multV(a,vectU),multV(b,vectV))\n",
    "                r2 = sumaV(multV(round(c),ru),multV(round(d),rv))\n",
    "                err = dist(r1,r2)\n",
    "                if err<eps:\n",
    "                    if (round(c)!=0)and(round(d)!=0):\n",
    "                        (f1,f2) = (c/round(c)),(d/round(d))\n",
    "                    res.append([a,b,round(c),round(d),th,err,(f1,f2)])\n",
    "                    if err<epsm:\n",
    "                        print(\"nuevo mejor=\",(a,b),(c,d))\n",
    "                        epsm = err\n",
    "                        rmin = [a,b,round(c),round(d),th,err,(f1,f2)]\n",
    "                    if show:\n",
    "                        print(\"(n,m)=\",(a,b),\" (c,d)=\",(round(c),round(d)),\"Theta=\",th,\"err:\",err)\n",
    "    print(\"Busqueda en a neg\")\n",
    "    epsm = eps\n",
    "    for i in range(rang):\n",
    "        a = i*(-1)\n",
    "        for b in range(rang):\n",
    "            if (a!=0)and(b!=0):\n",
    "                c = (a*(ax1*cos-ax2*sen)/ax1)-(b*(ax3*sen)/ax1)\n",
    "                d = (b*(ax1*cos+ax2*sen)/ax1)+(a*(ax4*sen)/ax1)\n",
    "                r1 = sumaV(multV(a,vectU),multV(b,vectV))\n",
    "                r2 = sumaV(multV(round(c),ru),multV(round(d),rv))\n",
    "                err = dist(r1,r2)\n",
    "                if err<eps:\n",
    "                    if (round(c)!=0)and(round(d)!=0):\n",
    "                        (f1,f2) = (c/round(c)),(d/round(d))\n",
    "                    res.append([a,b,round(c),round(d),th,err,(f1,f2)])\n",
    "                    if err<epsm:\n",
    "                        print(\"nuevo mejor=\",(a,b),(c,d))\n",
    "                        epsm = err\n",
    "                        rmin2 = [a,b,round(c),round(d),th,err,(f1,f2)]\n",
    "                    if show:\n",
    "                        print(\"(n,m)=\",(a,b),\" (c,d)=\",(round(c),round(d)),\"Theta=\",th,\"err:\",err)\n",
    "    return res, rmin, rmin2\n",
    "    \n",
    "def nvm(u,v,a,b,ang=60):\n",
    "    mu = sumaV(multV(a,u),multV(b,v))\n",
    "    mv = rota(mu,ang)\n",
    "    return mu, mv\n",
    "\n",
    "def sub(u, v, n, m):\n",
    "    p1 = sumaV(multV(m,u),multV(n,v))\n",
    "    p2 = sumaV(multV(-n,u),multV(n+m,v))\n",
    "    return p1, p2"
   ]
  },
  {
   "cell_type": "code",
   "execution_count": 7,
   "id": "c6dddb91",
   "metadata": {},
   "outputs": [],
   "source": [
    "l = 1\n",
    "h = l*math.sqrt(3)\n",
    "u, v = (h,-l),(h,l)\n",
    "th = 9.43\n",
    "malla = Malla(u, v)\n",
    "malla.crea(21,21,2,colors=['red','darkgreen']);\n",
    "mallaR = Malla(u, v, theta=th)\n",
    "mallaR.crea(21,21,2,colors=['darkred','darkblue']);"
   ]
  },
  {
   "cell_type": "code",
   "execution_count": null,
   "id": "619a5a01",
   "metadata": {},
   "outputs": [],
   "source": [
    "muestra([malla],name='malla0.png')"
   ]
  },
  {
   "cell_type": "code",
   "execution_count": null,
   "id": "dd5a68b7",
   "metadata": {},
   "outputs": [],
   "source": [
    "muestra([mallaR],name='malla0R.png')"
   ]
  },
  {
   "cell_type": "code",
   "execution_count": null,
   "id": "b464df67",
   "metadata": {},
   "outputs": [],
   "source": [
    "#Mostramos el empalme de la primer red con su rotada\n",
    "nombre = \"ejemplo(th=\"+str(th)+\").png\"\n",
    "muestra([malla,mallaR],t=0.3,name=nombre)"
   ]
  },
  {
   "cell_type": "code",
   "execution_count": null,
   "id": "5c9403a5",
   "metadata": {},
   "outputs": [],
   "source": [
    "th2 = 2*th\n",
    "mallaR2 = Malla(u, v, theta=th2)\n",
    "mallaR2.crea(21,21,2,colors=['yellow','grey']);\n",
    "muestra([mallaR2],t=0.3,name='malla0r2')"
   ]
  },
  {
   "cell_type": "code",
   "execution_count": null,
   "id": "3fcbcb31",
   "metadata": {},
   "outputs": [],
   "source": [
    "nombre = \"ejemplo2(th=\"+str(th)+\").png\"\n",
    "muestra([mallaR,mallaR2],t=0.3,name=nombre)"
   ]
  },
  {
   "cell_type": "code",
   "execution_count": null,
   "id": "890519cc",
   "metadata": {},
   "outputs": [],
   "source": [
    "nombre = \"ejemplo2(th=\"+str(th)+\",th2=\"+str(th2)+\").png\"\n",
    "muestra([malla,mallaR,mallaR2],t=0.3,name=nombre)"
   ]
  },
  {
   "cell_type": "code",
   "execution_count": null,
   "id": "c11224cc",
   "metadata": {},
   "outputs": [],
   "source": [
    "u2,v2=nvm(u,v,3,4)\n",
    "u2, v2\n",
    "redM1 = Malla(u2,v2)\n",
    "redM1.crea(6,4,1,colors=['black','black'])\n",
    "muestra([malla,mallaR],t=0.3,name='ejemplo1cmalla.png',mm=redM1)"
   ]
  },
  {
   "cell_type": "code",
   "execution_count": null,
   "id": "aa04a91b",
   "metadata": {},
   "outputs": [],
   "source": [
    "u2,v2=nvm(u,v,3,4)\n",
    "u2, v2\n",
    "redM2 = Malla(u2,v2,theta=th)\n",
    "redM2.crea(6,4,1,colors=['black','black'])\n",
    "muestra([mallaR,mallaR2],t=0.3,name='ejemplo2cmalla.png',mm=redM2)"
   ]
  },
  {
   "cell_type": "code",
   "execution_count": null,
   "id": "ef188cd4",
   "metadata": {},
   "outputs": [],
   "source": [
    "u3,v3=nvm(u2,v2,3,4)\n",
    "redM3 = Malla(u3,v3)\n",
    "redM3.creaNM(2,1)\n",
    "muestra([malla,mallaR,mallaR2,redM1,redM2],t=0.3,name='ejemplo3cmalla.png',mm=redM3)"
   ]
  },
  {
   "cell_type": "code",
   "execution_count": null,
   "id": "a390dc5b",
   "metadata": {},
   "outputs": [],
   "source": [
    "muestra([redM1,redM2],t=0.3,name='ejemplo4cmalla.png',mm=redM3)"
   ]
  },
  {
   "cell_type": "code",
   "execution_count": null,
   "id": "64e312a7",
   "metadata": {
    "scrolled": true
   },
   "outputs": [],
   "source": [
    "l = 1\n",
    "h = l*math.sqrt(3)\n",
    "u, v = (h,-l), (h,l)\n",
    "resultados = busca(u,v,100,40,0.00001);"
   ]
  },
  {
   "cell_type": "code",
   "execution_count": null,
   "id": "0a966730",
   "metadata": {},
   "outputs": [],
   "source": [
    "[a,b,c,d,th,er]=resultados[2]\n",
    "l = 1\n",
    "h = l*math.sqrt(3)\n",
    "u, v = (h,-l),(h,l)\n",
    "m1 = Malla(u, v)\n",
    "m2 = Malla(u, v, theta=th)\n",
    "m1.crea(21,21,2,colors=['darkred','grey'])\n",
    "m2.crea(21,21,2,colors=['darkblue','darkgreen'])\n",
    "u2, v2 = sub(u,v,b,a)#nvm(u,v,a,b,ang=th)\n",
    "redM1 = Malla(u2,v2)\n",
    "redM1.crea(6,6,1,colors=['black','black'])\n",
    "u1=sumaV(multV(a,u),multV(b,v))\n",
    "v1=rota(u1,60)\n",
    "print((u1,v1),(u2,v2))"
   ]
  },
  {
   "cell_type": "code",
   "execution_count": null,
   "id": "c61edf62",
   "metadata": {},
   "outputs": [],
   "source": [
    "muestra([m1],name='cosa2',mm=redM1)"
   ]
  },
  {
   "cell_type": "code",
   "execution_count": null,
   "id": "2cfd44ce",
   "metadata": {},
   "outputs": [],
   "source": [
    "u3, v3 = nvm(u,v,a,b)\n",
    "redM2 = Malla(u3,v3)\n",
    "redM2.crea(6,6,1,colors=['blue','black'])\n",
    "muestra([redM1],name='cosa2',mm=redM2)"
   ]
  },
  {
   "cell_type": "code",
   "execution_count": null,
   "id": "50cd69aa",
   "metadata": {},
   "outputs": [],
   "source": [
    "l = 1\n",
    "h = l*math.sqrt(3)\n",
    "a,b = 12,13\n",
    "th = 2.64\n",
    "(u1,u2) = u\n",
    "(v1,v2) = v\n",
    "ax1 = (u2*v1)-(u1*v2)\n",
    "ax2 = (u1*v1)+(u2*v2)\n",
    "ax3 = (v1*v1)+(v2*v2)\n",
    "ax3 = (u1*u1)+(u2*u2)\n",
    "u, v = (h,-l), (h,l)\n",
    "ang = math.radians(th)\n",
    "cos = math.cos(ang)\n",
    "sen = math.sin(ang)\n",
    "ru, rv = rota(u,th), rota(v,th)\n",
    "c = (a*(ax1*cos-ax2*sen) - b*(ax3*sen))/ax1\n",
    "d = (b*(ax1*cos+ax2*sen) + a*(ax3*sen))/ax1\n",
    "c,d = round(c),round(d)\n",
    "r1=sumaV(multV(a,u),multV(b,v))\n",
    "r2=sumaV(multV(c,ru),multV(d,rv))\n",
    "r3=sumaV(r1,multV(-1,r2))\n",
    "print(r1,r2,\"Dif=\",r3)\n",
    "print(dist(r1,r2))"
   ]
  },
  {
   "cell_type": "code",
   "execution_count": null,
   "id": "4d91fafa",
   "metadata": {},
   "outputs": [],
   "source": [
    "l = 1\n",
    "h = l*math.sqrt(3)\n",
    "a,b = 2,3\n",
    "th = 13.17\n",
    "(u1,u2) = u\n",
    "(v1,v2) = v\n",
    "ax1 = (u2*v1)-(u1*v2)\n",
    "ax2 = (u1*v1)+(u2*v2)\n",
    "ax3 = (v1*v1)+(v2*v2)\n",
    "ax3 = (u1*u1)+(u2*u2)\n",
    "u, v = (h,-l), (h,l)\n",
    "ang = math.radians(th)\n",
    "cos = math.cos(ang)\n",
    "sen = math.sin(ang)\n",
    "ru, rv = rota(u,th), rota(v,th)\n",
    "c = (a*(ax1*cos-ax2*sen) - b*(ax3*sen))/ax1\n",
    "d = (b*(ax1*cos+ax2*sen) + a*(ax3*sen))/ax1\n",
    "c,d = round(c),round(d)\n",
    "r1=sumaV(multV(a,u),multV(b,v))\n",
    "r2=sumaV(multV(c,ru),multV(d,rv))\n",
    "r3=sumaV(r1,multV(-1,r2))\n",
    "print(r1,r2,\"Dif=\",r3)\n",
    "print(dist(r1,r2))"
   ]
  },
  {
   "cell_type": "code",
   "execution_count": null,
   "id": "2e67be08",
   "metadata": {},
   "outputs": [],
   "source": [
    "vs = multV(2,v)\n",
    "u1, u2 = u\n",
    "v1, v2 = vs\n",
    "ang=((u1*v1)+(u2*v2))/(dist((0,0),u)*dist((0,0),vs))\n",
    "(math.acos(ang))*180/math.pi"
   ]
  },
  {
   "cell_type": "code",
   "execution_count": 68,
   "id": "4ab15e42",
   "metadata": {},
   "outputs": [
    {
     "name": "stdout",
     "output_type": "stream",
     "text": [
      "nuevo mejor= -59.9999\n",
      "nuevo mejor= -21.7868\n",
      "Rotación optima para (m,n)= (2, 1) : 38.2132 \n",
      "\t Err= 9.883498602822555e-07\n"
     ]
    }
   ],
   "source": [
    "m, n = 1,2\n",
    "r, rm = buscaTh(u,v,n,m,step=4,eps=0.001, show=False)\n",
    "\n",
    "if len(r)!=0:\n",
    "    print(\"Rotación optima para (m,n)=\",(n,m),\":\",rm[4]%60,\"\\n\\t Err=\",rm[5])\n",
    "else:\n",
    "    print(\"sin resultados\")"
   ]
  },
  {
   "cell_type": "code",
   "execution_count": 40,
   "id": "566684ca",
   "metadata": {},
   "outputs": [
    {
     "name": "stdout",
     "output_type": "stream",
     "text": [
      "Busqueda en a pos\n",
      "nuevo mejor= (1, 1) (1.1428951467141173, 0.428818639651547)\n",
      "nuevo mejor= (1, 2) (1.8569716537766876, 1.571713786350804)\n",
      "nuevo mejor= (1, 4) (3.2851246679018287, 3.857504079749318)\n",
      "nuevo mejor= (1, 5) (3.9992011749643988, 5.000399226448574)\n",
      "nuevo mejor= (2, 3) (2.9998668004908047, 2.000532426002351)\n",
      "Busqueda en a neg\n",
      "nuevo mejor= (-1, 1) (0.2852578674110236, 1.856971653746967)\n",
      "nuevo mejor= (-1, 2) (0.9993343744735941, 2.999866800446224)\n",
      " [2, 3, 3, 2, 38.2, 0.0014884769117700966, (0.9999556001636015, 1.0002662130011755)] \n",
      " [-1, 2, 1, 3, 38.2, 0.0014884769117704478, (0.9993343744735941, 0.9999556001487413)]\n"
     ]
    }
   ],
   "source": [
    "l = 1\n",
    "h = l*math.sqrt(3)\n",
    "u, v = (2.4400000572,0.0000000000),(-1.2200000286,2.1131020348)\n",
    "ang = 38.2\n",
    "r, rm, rm2 = buscaMN(u,v,ang, eps=1,show=False)\n",
    "print(\"\",rm,\"\\n\",rm2)"
   ]
  },
  {
   "cell_type": "code",
   "execution_count": 9,
   "id": "f68d92e2",
   "metadata": {},
   "outputs": [
    {
     "name": "stdout",
     "output_type": "stream",
     "text": [
      "(1.9795524618155778, 0.28525786741102344) (0.7427356711004695, 1.856971653761827)\n",
      "2 u+ 1 v to 3 ru+ -1 rv 0.001220063036527316\n",
      "(1.9794645699937883, 0.285245202006024) (0.7422412872747334, 1.8557356060180719)\n",
      "8.95090418262362e-16 %tension= (-0.004439984465420821, -0.0665625531359737)\n"
     ]
    }
   ],
   "source": [
    "(f1, f2) = rm[6]\n",
    "p1 = sumaV(multV(rm[0],u),multV(rm[1],v))\n",
    "ru, rv = rota(u,ang), rota(v,ang)\n",
    "p2 = sumaV(multV(rm[2],ru),multV(rm[3],rv))\n",
    "print(ru,rv)\n",
    "print(rm[0],\"u+\",rm[1],\"v to\",rm[2],\"ru+\",rm[3],\"rv\",dist(p1,p2))\n",
    "ru, rv = multV(f1,ru), multV(f2,rv)\n",
    "print(ru,rv)\n",
    "p2 = sumaV(multV(rm[2],ru),multV(rm[3],rv))\n",
    "print(dist(p1,p2), \"%tension=\" , ((f1-1)*100,(f2-1)*100))"
   ]
  },
  {
   "cell_type": "code",
   "execution_count": 45,
   "id": "45adc0c1",
   "metadata": {},
   "outputs": [
    {
     "name": "stdout",
     "output_type": "stream",
     "text": [
      "Malla 1 : 30 atomos, 45 enlaces\n",
      "\tTotal: 30 atomos, 45 enlaces\n"
     ]
    },
    {
     "data": {
      "image/png": "[encoded data removed]",
      "text/plain": [
       "<Figure size 1000x1000 with 1 Axes>"
      ]
     },
     "metadata": {},
     "output_type": "display_data"
    },
    {
     "data": {
      "text/plain": [
       "1"
      ]
     },
     "execution_count": 45,
     "metadata": {},
     "output_type": "execute_result"
    }
   ],
   "source": [
    "u, v = (2.4400000572,0.0000000000),(2.4400000572-1.2200000286,2.1131020348)\n",
    "fig, axs = plt.subplots()\n",
    "axs.set_xlim(-15, 15)\n",
    "axs.set_ylim(-15, 15)\n",
    "malla = Malla(u, v)\n",
    "malla.crea(1,2,2,colors=['red','darkgreen']);\n",
    "muestra([malla],ax = axs,t=10)"
   ]
  },
  {
   "cell_type": "code",
   "execution_count": 73,
   "id": "f9cda2f5",
   "metadata": {},
   "outputs": [
    {
     "data": {
      "text/plain": [
       "[6.0, 4.0]"
      ]
     },
     "execution_count": 73,
     "metadata": {},
     "output_type": "execute_result"
    }
   ],
   "source": [
    "plt.rcParams['figure.figsize']"
   ]
  },
  {
   "cell_type": "code",
   "execution_count": 7,
   "id": "021f2f29",
   "metadata": {},
   "outputs": [
    {
     "data": {
      "image/png": "[encoded data removed]",
      "text/plain": [
       "<Figure size 1000x1000 with 1 Axes>"
      ]
     },
     "metadata": {},
     "output_type": "display_data"
    }
   ],
   "source": [
    "plt.rcParams['figure.figsize'] = (10, 10)\n",
    "fig, ax = plt.subplots()"
   ]
  },
  {
   "cell_type": "code",
   "execution_count": 33,
   "id": "45c4fd71",
   "metadata": {},
   "outputs": [
    {
     "name": "stdout",
     "output_type": "stream",
     "text": [
      "a 2\n",
      "b 3\n",
      "c 4\n",
      "d 5\n"
     ]
    }
   ],
   "source": [
    "x=[('a',(1,2)),('b',(2,4)),('c',(3,8)),('d',(4,0))]\n",
    "for s,t in x:\n",
    "    n,m=t\n",
    "    print(s,str(n+1))"
   ]
  },
  {
   "cell_type": "code",
   "execution_count": 10,
   "id": "25b8df91",
   "metadata": {},
   "outputs": [
    {
     "data": {
      "text/plain": [
       "(-1, 10)"
      ]
     },
     "execution_count": 10,
     "metadata": {},
     "output_type": "execute_result"
    }
   ],
   "source": [
    "min((1,2),(4,6),(0,5),(3,0),(-1,10))"
   ]
  },
  {
   "cell_type": "code",
   "execution_count": null,
   "id": "2c34b392",
   "metadata": {},
   "outputs": [],
   "source": [
    "ingresaAtms(m, m0):\n",
    "    pO = len(m.atms)\n",
    "    for i in len(m0.atms):\n",
    "        m.atms.append([])\n",
    "    idu1, idu2=True, True\n",
    "    while(idu1 or idu2):\n",
    "\n",
    "isitin(m,cent, mu, mv):\n",
    "    res = []\n",
    "    inUnit = False\n",
    "    (u1,u2) = m.u\n",
    "    (v1,v2) = m.v\n",
    "    (p1,p2) = mu\n",
    "    (q1,q2) = mv\n",
    "    eq0 = (p2*q1)-(p1*q2)\n",
    "    eq1 = (q1*u2)-(q2*u1)\n",
    "    eq2 = (q1*v2)-(q2*v1)\n",
    "    eq3 = (p2*u1)-(p1*u2)\n",
    "    eq4 = (p2*v1)-(p1*v2)\n",
    "    for c in m.atms:\n",
    "        nc=[]\n",
    "        for (pos,enl) in c:\n",
    "            (x,y) = sumaV(cent,pos)\n",
    "            nx = (eq1*x+eq2*y)/eq0\n",
    "            ny = (eq3*x+eq4*y)/eq0\n",
    "            nPos=(nx,ny)\n",
    "            if (nx<1 and nx>0) and (ny<1 and ny>0):\n",
    "                nEnl = []\n",
    "                for e in enl:\n",
    "                    (x1,y1) = sumaV(cent,e[0])\n",
    "                    (x2,y2) = sumaV(cent,e[1])\n",
    "                    o = ((eq1*x1+eq2*y1)/eq0,(eq3*x1+eq4*y1)/eq0)\n",
    "                    f = ((eq1*x2+eq2*y2)/eq0,(eq3*x2+eq4*y2)/eq0)\n",
    "                    nEnl.append([o,f])\n",
    "                nc.append((nPos,nEnl))\n",
    "                inUnit = True \n",
    "        res.append(nc)\n",
    "    return res, inUnit"
   ]
  }
 ],
 "metadata": {
  "kernelspec": {
   "display_name": "Python 3 (ipykernel)",
   "language": "python",
   "name": "python3"
  },
  "language_info": {
   "codemirror_mode": {
    "name": "ipython",
    "version": 3
   },
   "file_extension": ".py",
   "mimetype": "text/x-python",
   "name": "python",
   "nbconvert_exporter": "python",
   "pygments_lexer": "ipython3",
   "version": "3.10.6"
  }
 },
 "nbformat": 4,
 "nbformat_minor": 5
}
